{
  "nbformat": 4,
  "nbformat_minor": 0,
  "metadata": {
    "colab": {
      "name": "Multivariate Exam.ipynb",
      "provenance": [],
      "include_colab_link": true
    },
    "kernelspec": {
      "name": "python3",
      "display_name": "Python 3"
    },
    "language_info": {
      "name": "python"
    }
  },
  "cells": [
    {
      "cell_type": "markdown",
      "metadata": {
        "id": "view-in-github",
        "colab_type": "text"
      },
      "source": [
        "<a href=\"https://colab.research.google.com/github/Chanunchida-May/multivariate/blob/main/Multivariate_Exam.ipynb\" target=\"_parent\"><img src=\"https://colab.research.google.com/assets/colab-badge.svg\" alt=\"Open In Colab\"/></a>"
      ]
    },
    {
      "cell_type": "markdown",
      "metadata": {
        "id": "JZxiNADfaDtv"
      },
      "source": [
        "ให้นักศึกษาทำข้อสอบใน Colab Notebook นี้โดยกรอกข้อมูลของตัวเองใน cell ที่ 2 แล้วรัน cell ที่ 1 - 5 และเริ่มทำข้อสอบใน cell ที่ 6 เป็นต้นไป\n",
        "\n",
        "โดยโจทย์คือ\n",
        "1. ข้อมูลโจทย์ อยู่ใน ตัวแปร ```Data```\n",
        "2. ทำ clustering แล้วทำ visualize ข้อมูลแบบ 2 มิติ\n",
        "3. ลด Dimension ของข้อมูลเหลือ 2 มิติ แล้วทำ clustering แล้ว visualize ข้อมูลแบบ 2 มิติ\n",
        "4. เปรียบเทียบความแตกต่างของผลข้อ 2. กับ ข้อ 3.\n",
        "5. เขียน comments อธิบายทุกขั้นตอน\n",
        "6. อัด video อธิบาย code ทุกๆขั้นตอนรวมถึงผลแล้วอัพลง youtube ในรูปแบบ unlist \n",
        "7. commit โดยใช้ชื่อ commit เป็น link youtube ที่อธิบาย code ในข้อ 6.\n",
        "\n",
        "กำหนดส่งวันที่ 2 พฤษภาคม 2564 (โดยให้มากรอกวันที่ commit ครั้งสุดท้ายใน sheet: https://docs.google.com/spreadsheets/d/1_qJwLDJVtOW1HxBcf_FHVc6UT4J_SOonuR6o3EEnVzw/edit?usp=sharing ช่อง Final)"
      ]
    },
    {
      "cell_type": "code",
      "metadata": {
        "id": "cWl2x1bPGtQl"
      },
      "source": [
        "from sklearn.datasets import make_blobs\n",
        "import random,math\n",
        "import numpy as np\n",
        "import pandas"
      ],
      "execution_count": 10,
      "outputs": []
    },
    {
      "cell_type": "code",
      "metadata": {
        "id": "gZfzuiHsZksh"
      },
      "source": [
        "Name = 'ชนัญชิดา เมธีกุลมานิต'\n",
        "ID = '623020516-1'"
      ],
      "execution_count": 11,
      "outputs": []
    },
    {
      "cell_type": "code",
      "metadata": {
        "id": "8hFQXkF5aAiA"
      },
      "source": [
        "def DataGenerator(name,id):\n",
        "    random.seed(int(id[3:6]))\n",
        "    numfeat = random.randint(20,30)\n",
        "    ct = random.randint(len(name)-6,len(name))\n",
        "    \n",
        "    X, y = make_blobs(n_samples=10000, centers=ct, n_features=numfeat , random_state=int(id[3:6]))\n",
        "\n",
        "    print(f'{id[3:6]}:{numfeat}:{ct}')\n",
        "    X_t = (X[:,1]*2)+int(id[3])\n",
        "    X_t2 = (X[:,-1]*5)+int(id[4])\n",
        "\n",
        "    DT = np.append(X,X_t.reshape([10000,1]),axis=1)\n",
        "    DT = np.append(DT,X_t2.reshape([10000,1]),axis=1)\n",
        "    \n",
        "    return pandas.DataFrame(DT)"
      ],
      "execution_count": 12,
      "outputs": []
    },
    {
      "cell_type": "code",
      "metadata": {
        "colab": {
          "base_uri": "https://localhost:8080/"
        },
        "id": "hbXlxumSBX9i",
        "outputId": "437bf6e8-f421-4557-a6c3-0d45fd798379"
      },
      "source": [
        "Data = DataGenerator(Name,ID)"
      ],
      "execution_count": 13,
      "outputs": [
        {
          "output_type": "stream",
          "text": [
            "020:30:21\n"
          ],
          "name": "stdout"
        }
      ]
    },
    {
      "cell_type": "code",
      "metadata": {
        "colab": {
          "base_uri": "https://localhost:8080/",
          "height": 424
        },
        "id": "pQcCySXvBdN-",
        "outputId": "08278342-6bc7-471c-99d6-d0a6898d6b8a"
      },
      "source": [
        "Data"
      ],
      "execution_count": 14,
      "outputs": [
        {
          "output_type": "execute_result",
          "data": {
            "text/html": [
              "<div>\n",
              "<style scoped>\n",
              "    .dataframe tbody tr th:only-of-type {\n",
              "        vertical-align: middle;\n",
              "    }\n",
              "\n",
              "    .dataframe tbody tr th {\n",
              "        vertical-align: top;\n",
              "    }\n",
              "\n",
              "    .dataframe thead th {\n",
              "        text-align: right;\n",
              "    }\n",
              "</style>\n",
              "<table border=\"1\" class=\"dataframe\">\n",
              "  <thead>\n",
              "    <tr style=\"text-align: right;\">\n",
              "      <th></th>\n",
              "      <th>0</th>\n",
              "      <th>1</th>\n",
              "      <th>2</th>\n",
              "      <th>3</th>\n",
              "      <th>4</th>\n",
              "      <th>5</th>\n",
              "      <th>6</th>\n",
              "      <th>7</th>\n",
              "      <th>8</th>\n",
              "      <th>9</th>\n",
              "      <th>10</th>\n",
              "      <th>11</th>\n",
              "      <th>12</th>\n",
              "      <th>13</th>\n",
              "      <th>14</th>\n",
              "      <th>15</th>\n",
              "      <th>16</th>\n",
              "      <th>17</th>\n",
              "      <th>18</th>\n",
              "      <th>19</th>\n",
              "      <th>20</th>\n",
              "      <th>21</th>\n",
              "      <th>22</th>\n",
              "      <th>23</th>\n",
              "      <th>24</th>\n",
              "      <th>25</th>\n",
              "      <th>26</th>\n",
              "      <th>27</th>\n",
              "      <th>28</th>\n",
              "      <th>29</th>\n",
              "      <th>30</th>\n",
              "      <th>31</th>\n",
              "    </tr>\n",
              "  </thead>\n",
              "  <tbody>\n",
              "    <tr>\n",
              "      <th>0</th>\n",
              "      <td>0.075284</td>\n",
              "      <td>-4.698610</td>\n",
              "      <td>-1.796113</td>\n",
              "      <td>2.573403</td>\n",
              "      <td>5.392528</td>\n",
              "      <td>10.443115</td>\n",
              "      <td>2.936573</td>\n",
              "      <td>-0.189635</td>\n",
              "      <td>-7.934688</td>\n",
              "      <td>-0.762363</td>\n",
              "      <td>-2.573792</td>\n",
              "      <td>-5.407818</td>\n",
              "      <td>3.099271</td>\n",
              "      <td>9.654666</td>\n",
              "      <td>4.113177</td>\n",
              "      <td>1.498262</td>\n",
              "      <td>1.743397</td>\n",
              "      <td>8.195469</td>\n",
              "      <td>9.271724</td>\n",
              "      <td>5.936310</td>\n",
              "      <td>-4.687235</td>\n",
              "      <td>-4.340322</td>\n",
              "      <td>9.866275</td>\n",
              "      <td>0.468506</td>\n",
              "      <td>-0.754849</td>\n",
              "      <td>1.375600</td>\n",
              "      <td>4.734555</td>\n",
              "      <td>5.078867</td>\n",
              "      <td>0.523719</td>\n",
              "      <td>8.083784</td>\n",
              "      <td>-9.397219</td>\n",
              "      <td>42.418922</td>\n",
              "    </tr>\n",
              "    <tr>\n",
              "      <th>1</th>\n",
              "      <td>2.256112</td>\n",
              "      <td>8.518886</td>\n",
              "      <td>8.979545</td>\n",
              "      <td>7.161781</td>\n",
              "      <td>-10.400533</td>\n",
              "      <td>3.802111</td>\n",
              "      <td>-1.000701</td>\n",
              "      <td>0.184998</td>\n",
              "      <td>2.001371</td>\n",
              "      <td>-7.012582</td>\n",
              "      <td>-4.228139</td>\n",
              "      <td>4.328138</td>\n",
              "      <td>5.361476</td>\n",
              "      <td>6.371868</td>\n",
              "      <td>5.568158</td>\n",
              "      <td>-8.445997</td>\n",
              "      <td>-8.090063</td>\n",
              "      <td>4.859351</td>\n",
              "      <td>-5.967270</td>\n",
              "      <td>-4.406233</td>\n",
              "      <td>5.934493</td>\n",
              "      <td>10.004309</td>\n",
              "      <td>-0.279969</td>\n",
              "      <td>-6.497705</td>\n",
              "      <td>6.070259</td>\n",
              "      <td>2.203129</td>\n",
              "      <td>3.469625</td>\n",
              "      <td>6.208171</td>\n",
              "      <td>0.377686</td>\n",
              "      <td>0.121612</td>\n",
              "      <td>17.037773</td>\n",
              "      <td>2.608059</td>\n",
              "    </tr>\n",
              "    <tr>\n",
              "      <th>2</th>\n",
              "      <td>-4.591993</td>\n",
              "      <td>-10.669221</td>\n",
              "      <td>-3.033714</td>\n",
              "      <td>-7.941222</td>\n",
              "      <td>-3.385107</td>\n",
              "      <td>1.151519</td>\n",
              "      <td>-8.766998</td>\n",
              "      <td>-10.024388</td>\n",
              "      <td>3.863638</td>\n",
              "      <td>1.385751</td>\n",
              "      <td>-3.745489</td>\n",
              "      <td>-3.573622</td>\n",
              "      <td>-0.792904</td>\n",
              "      <td>-1.293412</td>\n",
              "      <td>-6.647738</td>\n",
              "      <td>11.117316</td>\n",
              "      <td>8.177635</td>\n",
              "      <td>6.614461</td>\n",
              "      <td>-9.780989</td>\n",
              "      <td>-9.422319</td>\n",
              "      <td>-8.674050</td>\n",
              "      <td>0.682759</td>\n",
              "      <td>3.058647</td>\n",
              "      <td>4.731224</td>\n",
              "      <td>5.171247</td>\n",
              "      <td>3.373287</td>\n",
              "      <td>-9.048570</td>\n",
              "      <td>0.863685</td>\n",
              "      <td>5.630171</td>\n",
              "      <td>-5.956894</td>\n",
              "      <td>-21.338442</td>\n",
              "      <td>-27.784471</td>\n",
              "    </tr>\n",
              "    <tr>\n",
              "      <th>3</th>\n",
              "      <td>4.758277</td>\n",
              "      <td>4.650678</td>\n",
              "      <td>3.417744</td>\n",
              "      <td>7.633664</td>\n",
              "      <td>-2.668778</td>\n",
              "      <td>-8.866351</td>\n",
              "      <td>6.640300</td>\n",
              "      <td>8.029495</td>\n",
              "      <td>-0.190749</td>\n",
              "      <td>6.538543</td>\n",
              "      <td>-1.583843</td>\n",
              "      <td>8.216617</td>\n",
              "      <td>4.404266</td>\n",
              "      <td>1.673135</td>\n",
              "      <td>10.348315</td>\n",
              "      <td>9.928181</td>\n",
              "      <td>6.842507</td>\n",
              "      <td>-2.705591</td>\n",
              "      <td>-9.555843</td>\n",
              "      <td>6.733607</td>\n",
              "      <td>-8.028439</td>\n",
              "      <td>-5.219506</td>\n",
              "      <td>-3.808931</td>\n",
              "      <td>9.797888</td>\n",
              "      <td>-4.350369</td>\n",
              "      <td>-3.533076</td>\n",
              "      <td>-2.854182</td>\n",
              "      <td>-8.573982</td>\n",
              "      <td>0.189384</td>\n",
              "      <td>-8.423114</td>\n",
              "      <td>9.301356</td>\n",
              "      <td>-40.115568</td>\n",
              "    </tr>\n",
              "    <tr>\n",
              "      <th>4</th>\n",
              "      <td>4.064698</td>\n",
              "      <td>7.523146</td>\n",
              "      <td>-9.102260</td>\n",
              "      <td>-6.640667</td>\n",
              "      <td>9.335034</td>\n",
              "      <td>1.352716</td>\n",
              "      <td>9.313866</td>\n",
              "      <td>2.225078</td>\n",
              "      <td>5.140301</td>\n",
              "      <td>-2.074142</td>\n",
              "      <td>5.902454</td>\n",
              "      <td>-0.412591</td>\n",
              "      <td>-2.478493</td>\n",
              "      <td>-2.306601</td>\n",
              "      <td>-0.877745</td>\n",
              "      <td>7.565374</td>\n",
              "      <td>-1.823563</td>\n",
              "      <td>-2.281004</td>\n",
              "      <td>-2.832499</td>\n",
              "      <td>1.272504</td>\n",
              "      <td>2.267397</td>\n",
              "      <td>-6.968854</td>\n",
              "      <td>2.769761</td>\n",
              "      <td>-4.333420</td>\n",
              "      <td>8.371068</td>\n",
              "      <td>-8.833340</td>\n",
              "      <td>5.678846</td>\n",
              "      <td>-2.901228</td>\n",
              "      <td>-8.408941</td>\n",
              "      <td>5.386016</td>\n",
              "      <td>15.046292</td>\n",
              "      <td>28.930082</td>\n",
              "    </tr>\n",
              "    <tr>\n",
              "      <th>...</th>\n",
              "      <td>...</td>\n",
              "      <td>...</td>\n",
              "      <td>...</td>\n",
              "      <td>...</td>\n",
              "      <td>...</td>\n",
              "      <td>...</td>\n",
              "      <td>...</td>\n",
              "      <td>...</td>\n",
              "      <td>...</td>\n",
              "      <td>...</td>\n",
              "      <td>...</td>\n",
              "      <td>...</td>\n",
              "      <td>...</td>\n",
              "      <td>...</td>\n",
              "      <td>...</td>\n",
              "      <td>...</td>\n",
              "      <td>...</td>\n",
              "      <td>...</td>\n",
              "      <td>...</td>\n",
              "      <td>...</td>\n",
              "      <td>...</td>\n",
              "      <td>...</td>\n",
              "      <td>...</td>\n",
              "      <td>...</td>\n",
              "      <td>...</td>\n",
              "      <td>...</td>\n",
              "      <td>...</td>\n",
              "      <td>...</td>\n",
              "      <td>...</td>\n",
              "      <td>...</td>\n",
              "      <td>...</td>\n",
              "      <td>...</td>\n",
              "    </tr>\n",
              "    <tr>\n",
              "      <th>9995</th>\n",
              "      <td>-7.138307</td>\n",
              "      <td>4.983342</td>\n",
              "      <td>1.339236</td>\n",
              "      <td>8.088569</td>\n",
              "      <td>-10.446501</td>\n",
              "      <td>-5.529515</td>\n",
              "      <td>10.334767</td>\n",
              "      <td>-7.225092</td>\n",
              "      <td>4.129994</td>\n",
              "      <td>-0.540194</td>\n",
              "      <td>-9.210808</td>\n",
              "      <td>3.844797</td>\n",
              "      <td>6.914146</td>\n",
              "      <td>0.271029</td>\n",
              "      <td>-5.131648</td>\n",
              "      <td>-5.780360</td>\n",
              "      <td>6.674650</td>\n",
              "      <td>6.924942</td>\n",
              "      <td>6.454967</td>\n",
              "      <td>9.115160</td>\n",
              "      <td>-4.490058</td>\n",
              "      <td>-4.422617</td>\n",
              "      <td>-2.889046</td>\n",
              "      <td>-7.533495</td>\n",
              "      <td>-7.009099</td>\n",
              "      <td>-1.219168</td>\n",
              "      <td>-7.463350</td>\n",
              "      <td>7.159741</td>\n",
              "      <td>5.096300</td>\n",
              "      <td>-7.878508</td>\n",
              "      <td>9.966685</td>\n",
              "      <td>-37.392539</td>\n",
              "    </tr>\n",
              "    <tr>\n",
              "      <th>9996</th>\n",
              "      <td>9.447729</td>\n",
              "      <td>-10.343070</td>\n",
              "      <td>-7.072834</td>\n",
              "      <td>-2.435520</td>\n",
              "      <td>6.592739</td>\n",
              "      <td>12.163324</td>\n",
              "      <td>8.033275</td>\n",
              "      <td>3.114361</td>\n",
              "      <td>-2.093757</td>\n",
              "      <td>-0.516587</td>\n",
              "      <td>3.299198</td>\n",
              "      <td>4.476070</td>\n",
              "      <td>7.310476</td>\n",
              "      <td>-2.404773</td>\n",
              "      <td>7.754966</td>\n",
              "      <td>6.011323</td>\n",
              "      <td>-5.071566</td>\n",
              "      <td>2.357294</td>\n",
              "      <td>8.332472</td>\n",
              "      <td>-11.877982</td>\n",
              "      <td>-7.461121</td>\n",
              "      <td>8.524154</td>\n",
              "      <td>7.137896</td>\n",
              "      <td>5.009467</td>\n",
              "      <td>5.933162</td>\n",
              "      <td>-6.094294</td>\n",
              "      <td>-7.637146</td>\n",
              "      <td>5.677159</td>\n",
              "      <td>-0.870917</td>\n",
              "      <td>4.543106</td>\n",
              "      <td>-20.686139</td>\n",
              "      <td>24.715530</td>\n",
              "    </tr>\n",
              "    <tr>\n",
              "      <th>9997</th>\n",
              "      <td>3.311942</td>\n",
              "      <td>2.666463</td>\n",
              "      <td>3.484471</td>\n",
              "      <td>5.891362</td>\n",
              "      <td>-2.491019</td>\n",
              "      <td>-9.337824</td>\n",
              "      <td>5.691715</td>\n",
              "      <td>5.384492</td>\n",
              "      <td>0.614234</td>\n",
              "      <td>7.759929</td>\n",
              "      <td>-0.842790</td>\n",
              "      <td>5.305373</td>\n",
              "      <td>4.363303</td>\n",
              "      <td>2.617577</td>\n",
              "      <td>10.079838</td>\n",
              "      <td>7.306719</td>\n",
              "      <td>7.019005</td>\n",
              "      <td>-1.421492</td>\n",
              "      <td>-10.933845</td>\n",
              "      <td>7.932982</td>\n",
              "      <td>-9.746023</td>\n",
              "      <td>-1.886430</td>\n",
              "      <td>-4.153681</td>\n",
              "      <td>8.732104</td>\n",
              "      <td>-6.278363</td>\n",
              "      <td>-4.614760</td>\n",
              "      <td>-3.915977</td>\n",
              "      <td>-9.051466</td>\n",
              "      <td>1.071257</td>\n",
              "      <td>-9.172472</td>\n",
              "      <td>5.332926</td>\n",
              "      <td>-43.862361</td>\n",
              "    </tr>\n",
              "    <tr>\n",
              "      <th>9998</th>\n",
              "      <td>1.248170</td>\n",
              "      <td>-7.797526</td>\n",
              "      <td>5.100480</td>\n",
              "      <td>11.057906</td>\n",
              "      <td>-0.959574</td>\n",
              "      <td>2.284569</td>\n",
              "      <td>-2.644382</td>\n",
              "      <td>6.240631</td>\n",
              "      <td>-8.954249</td>\n",
              "      <td>7.577219</td>\n",
              "      <td>6.391494</td>\n",
              "      <td>-0.025679</td>\n",
              "      <td>1.956391</td>\n",
              "      <td>5.588021</td>\n",
              "      <td>0.656975</td>\n",
              "      <td>-2.679199</td>\n",
              "      <td>-6.405252</td>\n",
              "      <td>5.709901</td>\n",
              "      <td>3.584074</td>\n",
              "      <td>0.743031</td>\n",
              "      <td>8.051099</td>\n",
              "      <td>-5.383952</td>\n",
              "      <td>-3.905264</td>\n",
              "      <td>-4.378429</td>\n",
              "      <td>-3.166401</td>\n",
              "      <td>3.127415</td>\n",
              "      <td>-9.488871</td>\n",
              "      <td>2.606443</td>\n",
              "      <td>3.857692</td>\n",
              "      <td>-10.920978</td>\n",
              "      <td>-15.595052</td>\n",
              "      <td>-52.604891</td>\n",
              "    </tr>\n",
              "    <tr>\n",
              "      <th>9999</th>\n",
              "      <td>2.028489</td>\n",
              "      <td>0.003509</td>\n",
              "      <td>-8.167729</td>\n",
              "      <td>3.527283</td>\n",
              "      <td>7.546339</td>\n",
              "      <td>7.403329</td>\n",
              "      <td>6.807357</td>\n",
              "      <td>4.496732</td>\n",
              "      <td>-10.049710</td>\n",
              "      <td>8.371454</td>\n",
              "      <td>6.311324</td>\n",
              "      <td>0.470191</td>\n",
              "      <td>7.673391</td>\n",
              "      <td>7.759508</td>\n",
              "      <td>-2.518462</td>\n",
              "      <td>-4.614669</td>\n",
              "      <td>-0.465492</td>\n",
              "      <td>-3.765381</td>\n",
              "      <td>-3.886814</td>\n",
              "      <td>4.311555</td>\n",
              "      <td>0.853585</td>\n",
              "      <td>-5.663640</td>\n",
              "      <td>0.763559</td>\n",
              "      <td>-4.301225</td>\n",
              "      <td>-8.169169</td>\n",
              "      <td>6.381922</td>\n",
              "      <td>8.813416</td>\n",
              "      <td>-8.031246</td>\n",
              "      <td>-6.420540</td>\n",
              "      <td>-4.206465</td>\n",
              "      <td>0.007017</td>\n",
              "      <td>-19.032327</td>\n",
              "    </tr>\n",
              "  </tbody>\n",
              "</table>\n",
              "<p>10000 rows × 32 columns</p>\n",
              "</div>"
            ],
            "text/plain": [
              "            0          1         2   ...         29         30         31\n",
              "0     0.075284  -4.698610 -1.796113  ...   8.083784  -9.397219  42.418922\n",
              "1     2.256112   8.518886  8.979545  ...   0.121612  17.037773   2.608059\n",
              "2    -4.591993 -10.669221 -3.033714  ...  -5.956894 -21.338442 -27.784471\n",
              "3     4.758277   4.650678  3.417744  ...  -8.423114   9.301356 -40.115568\n",
              "4     4.064698   7.523146 -9.102260  ...   5.386016  15.046292  28.930082\n",
              "...        ...        ...       ...  ...        ...        ...        ...\n",
              "9995 -7.138307   4.983342  1.339236  ...  -7.878508   9.966685 -37.392539\n",
              "9996  9.447729 -10.343070 -7.072834  ...   4.543106 -20.686139  24.715530\n",
              "9997  3.311942   2.666463  3.484471  ...  -9.172472   5.332926 -43.862361\n",
              "9998  1.248170  -7.797526  5.100480  ... -10.920978 -15.595052 -52.604891\n",
              "9999  2.028489   0.003509 -8.167729  ...  -4.206465   0.007017 -19.032327\n",
              "\n",
              "[10000 rows x 32 columns]"
            ]
          },
          "metadata": {
            "tags": []
          },
          "execution_count": 14
        }
      ]
    },
    {
      "cell_type": "code",
      "metadata": {
        "id": "jUARadkFEuyJ",
        "outputId": "043bd83d-55da-4c3a-ee9e-2513ed60a20e",
        "colab": {
          "base_uri": "https://localhost:8080/"
        }
      },
      "source": [
        "Data.shape  #ใช้shapeเพื่อดูขนาดของข้อมูลที่ได้จากการรันข้อมูลในตาราง\n"
      ],
      "execution_count": 16,
      "outputs": [
        {
          "output_type": "execute_result",
          "data": {
            "text/plain": [
              "(10000, 32)"
            ]
          },
          "metadata": {
            "tags": []
          },
          "execution_count": 16
        }
      ]
    },
    {
      "cell_type": "code",
      "metadata": {
        "id": "25oGOlKVM2RA"
      },
      "source": [
        ""
      ],
      "execution_count": null,
      "outputs": []
    },
    {
      "cell_type": "code",
      "metadata": {
        "id": "iLyN3_JdM2O-"
      },
      "source": [
        ""
      ],
      "execution_count": null,
      "outputs": []
    },
    {
      "cell_type": "code",
      "metadata": {
        "id": "KA9P-f93M2Ml"
      },
      "source": [
        ""
      ],
      "execution_count": null,
      "outputs": []
    },
    {
      "cell_type": "code",
      "metadata": {
        "id": "wKgOZZ9hM2KU"
      },
      "source": [
        ""
      ],
      "execution_count": null,
      "outputs": []
    },
    {
      "cell_type": "code",
      "metadata": {
        "id": "tlmsn7zPM2H8"
      },
      "source": [
        ""
      ],
      "execution_count": null,
      "outputs": []
    },
    {
      "cell_type": "code",
      "metadata": {
        "id": "u0pYTZCFM2FY"
      },
      "source": [
        ""
      ],
      "execution_count": null,
      "outputs": []
    },
    {
      "cell_type": "code",
      "metadata": {
        "id": "BgcIe5RYM2DN"
      },
      "source": [
        ""
      ],
      "execution_count": null,
      "outputs": []
    },
    {
      "cell_type": "code",
      "metadata": {
        "id": "6zR_OeAoM2A4"
      },
      "source": [
        ""
      ],
      "execution_count": null,
      "outputs": []
    },
    {
      "cell_type": "code",
      "metadata": {
        "id": "vwyt7LxaM1-U"
      },
      "source": [
        ""
      ],
      "execution_count": null,
      "outputs": []
    },
    {
      "cell_type": "code",
      "metadata": {
        "id": "PtYQUpzBM17u"
      },
      "source": [
        ""
      ],
      "execution_count": null,
      "outputs": []
    },
    {
      "cell_type": "code",
      "metadata": {
        "id": "0qIvabx5M15b"
      },
      "source": [
        ""
      ],
      "execution_count": null,
      "outputs": []
    },
    {
      "cell_type": "code",
      "metadata": {
        "id": "tYJGiVB_M13L"
      },
      "source": [
        ""
      ],
      "execution_count": null,
      "outputs": []
    },
    {
      "cell_type": "code",
      "metadata": {
        "id": "oIKNNNeuM10y"
      },
      "source": [
        ""
      ],
      "execution_count": null,
      "outputs": []
    }
  ]
}