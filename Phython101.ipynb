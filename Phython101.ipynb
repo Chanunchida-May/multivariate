{
  "nbformat": 4,
  "nbformat_minor": 0,
  "metadata": {
    "colab": {
      "name": "Phython101.ipynb",
      "provenance": [],
      "authorship_tag": "ABX9TyO/tZuv6Xldq7Chuf0wyOmd",
      "include_colab_link": true
    },
    "kernelspec": {
      "name": "python3",
      "display_name": "Python 3"
    }
  },
  "cells": [
    {
      "cell_type": "markdown",
      "metadata": {
        "id": "view-in-github",
        "colab_type": "text"
      },
      "source": [
        "<a href=\"https://colab.research.google.com/github/Chanunchida-May/multivariate/blob/main/Phython101.ipynb\" target=\"_parent\"><img src=\"https://colab.research.google.com/assets/colab-badge.svg\" alt=\"Open In Colab\"/></a>"
      ]
    },
    {
      "cell_type": "markdown",
      "metadata": {
        "id": "9L33wt8PPpuk"
      },
      "source": [
        "ตัวเเปร varieble"
      ]
    },
    {
      "cell_type": "markdown",
      "metadata": {
        "id": "b6DxYYoGQSWf"
      },
      "source": [
        "หลักการตั้งชื่อตัวเเปรเบื้องต้น\r\n",
        "\r\n",
        "1.ตั้งชื่อภาษาอังกฤษ\r\n",
        "\r\n",
        "2.ใช้ตัวเลขได้เเต่ห้ามขึ้นต้นด้วยตัวเลข\r\n",
        "\r\n",
        "3.ห้ามมีเว้นวรรค\r\n",
        "\r\n",
        "4.ตัวเล็กกับตัวใหญ่ต่างกัน\r\n",
        "\r\n",
        "การ RUN เราสามารถกด SHIFT เเล้ว ENTER "
      ]
    },
    {
      "cell_type": "markdown",
      "metadata": {
        "id": "cp6gXk0dQ9WG"
      },
      "source": [
        "มี output 2 mode ออกจากหน้าจอเข้าไปในตัวเเปร"
      ]
    },
    {
      "cell_type": "code",
      "metadata": {
        "colab": {
          "base_uri": "https://localhost:8080/"
        },
        "id": "LYRv2ROiQxO-",
        "outputId": "95371c50-5660-4993-dc57-f0aba249e619"
      },
      "source": [
        "3.14159 #HASTAG คือcomment  >>> คือ output ที่ออกหน้าจอ"
      ],
      "execution_count": 6,
      "outputs": [
        {
          "output_type": "execute_result",
          "data": {
            "text/plain": [
              "3.14159"
            ]
          },
          "metadata": {
            "tags": []
          },
          "execution_count": 6
        }
      ]
    },
    {
      "cell_type": "code",
      "metadata": {
        "id": "iyEgEuwtLqns"
      },
      "source": [
        "pi = 3.14159 #output ที่อยู่ในตัวแปร"
      ],
      "execution_count": 5,
      "outputs": []
    },
    {
      "cell_type": "code",
      "metadata": {
        "colab": {
          "base_uri": "https://localhost:8080/"
        },
        "id": "9oH9pYVdPoaS",
        "outputId": "6abc8538-dd5e-4c00-be8b-3a282f634b0a"
      },
      "source": [
        "pi"
      ],
      "execution_count": 7,
      "outputs": [
        {
          "output_type": "execute_result",
          "data": {
            "text/plain": [
              "3.14159"
            ]
          },
          "metadata": {
            "tags": []
          },
          "execution_count": 7
        }
      ]
    },
    {
      "cell_type": "code",
      "metadata": {
        "colab": {
          "base_uri": "https://localhost:8080/"
        },
        "id": "4P2v7UM1Pmjr",
        "outputId": "557d73f7-714c-4536-d535-f90acbfedd67"
      },
      "source": [
        "a = 456789 # คำสั่ง Print สามารถเเสดงผลของตัวเลขที่เราใส่ไปได้ เช่น a=456789 เเสดงออกมาได้คือ 456789\r\n",
        "print(a)"
      ],
      "execution_count": 8,
      "outputs": [
        {
          "output_type": "stream",
          "text": [
            "456789\n"
          ],
          "name": "stdout"
        }
      ]
    },
    {
      "cell_type": "markdown",
      "metadata": {
        "id": "inuQuOOKSeuB"
      },
      "source": [
        "ชนิดของตัวเเปร 3 ชนิด"
      ]
    },
    {
      "cell_type": "markdown",
      "metadata": {
        "id": "bhSJWHJzT7C_"
      },
      "source": [
        "# จำนวนเต็ม (integer,int) "
      ]
    },
    {
      "cell_type": "code",
      "metadata": {
        "colab": {
          "base_uri": "https://localhost:8080/"
        },
        "id": "iZBbRRaFPmvl",
        "outputId": "4fd7379c-aafe-482c-e0e5-85b3a5829d44"
      },
      "source": [
        "aaa = 123\r\n",
        "print(aaa)"
      ],
      "execution_count": 13,
      "outputs": [
        {
          "output_type": "stream",
          "text": [
            "123\n"
          ],
          "name": "stdout"
        }
      ]
    },
    {
      "cell_type": "markdown",
      "metadata": {
        "id": "kDsJ0QwsUROW"
      },
      "source": [
        "##จำนวนจริง (float)"
      ]
    },
    {
      "cell_type": "code",
      "metadata": {
        "colab": {
          "base_uri": "https://localhost:8080/"
        },
        "id": "KkR4nnJhPmyf",
        "outputId": "dbdf72ed-18f8-4eaa-ace5-e196c4af089a"
      },
      "source": [
        "cc =11.# คำสั่ง Print สามารถเเสดงผลของตัวเลขที่เราใส่ไปได้\r\n",
        "print(cc)"
      ],
      "execution_count": 10,
      "outputs": [
        {
          "output_type": "stream",
          "text": [
            "11.0\n"
          ],
          "name": "stdout"
        }
      ]
    },
    {
      "cell_type": "markdown",
      "metadata": {
        "id": "Zs5rWHnSUt8i"
      },
      "source": [
        "### ตัวอักษร-ข้อความ(character เเละ text,string)\r\n"
      ]
    },
    {
      "cell_type": "code",
      "metadata": {
        "colab": {
          "base_uri": "https://localhost:8080/"
        },
        "id": "0WxkfkTgPm1F",
        "outputId": "42a2f976-5a67-438d-e7f4-813466caa90a"
      },
      "source": [
        "bbb ='123456789' #ใช้ single quote or double quote \"\" ล้อมด้วยตัวหนังสือพร้อมระบุว่าเป็น character string\r\n",
        "print(bbb)"
      ],
      "execution_count": 11,
      "outputs": [
        {
          "output_type": "stream",
          "text": [
            "123456789\n"
          ],
          "name": "stdout"
        }
      ]
    },
    {
      "cell_type": "code",
      "metadata": {
        "colab": {
          "base_uri": "https://localhost:8080/"
        },
        "id": "lNwW0LjgPm4G",
        "outputId": "0838750d-7dde-4284-dc90-1ceca74d2135"
      },
      "source": [
        "aaa + cc #เมื่อint+float = float"
      ],
      "execution_count": 14,
      "outputs": [
        {
          "output_type": "execute_result",
          "data": {
            "text/plain": [
              "134.0"
            ]
          },
          "metadata": {
            "tags": []
          },
          "execution_count": 14
        }
      ]
    },
    {
      "cell_type": "code",
      "metadata": {
        "colab": {
          "base_uri": "https://localhost:8080/",
          "height": 162
        },
        "id": "KyxN6gQPPm65",
        "outputId": "af002b80-96cd-46d0-e465-0cf5107f5552"
      },
      "source": [
        "cc + bbb #float+character=error เเก้ปัญหาerrorได้จากข้อความบรรทัดสุดท้าย"
      ],
      "execution_count": 15,
      "outputs": [
        {
          "output_type": "error",
          "ename": "TypeError",
          "evalue": "ignored",
          "traceback": [
            "\u001b[0;31m---------------------------------------------------------------------------\u001b[0m",
            "\u001b[0;31mTypeError\u001b[0m                                 Traceback (most recent call last)",
            "\u001b[0;32m<ipython-input-15-d45b41dc3fc3>\u001b[0m in \u001b[0;36m<module>\u001b[0;34m()\u001b[0m\n\u001b[0;32m----> 1\u001b[0;31m \u001b[0mcc\u001b[0m \u001b[0;34m+\u001b[0m \u001b[0mbbb\u001b[0m\u001b[0;34m\u001b[0m\u001b[0;34m\u001b[0m\u001b[0m\n\u001b[0m",
            "\u001b[0;31mTypeError\u001b[0m: unsupported operand type(s) for +: 'float' and 'str'"
          ]
        }
      ]
    },
    {
      "cell_type": "code",
      "metadata": {
        "colab": {
          "base_uri": "https://localhost:8080/"
        },
        "id": "XPPvYioDPm9a",
        "outputId": "82490a49-789a-461b-bad3-1c7b8b4ed4e5"
      },
      "source": [
        "ddd = 'ชนัญชิดา'\r\n",
        "print(ddd)"
      ],
      "execution_count": 16,
      "outputs": [
        {
          "output_type": "stream",
          "text": [
            "ชนัญชิดา\n"
          ],
          "name": "stdout"
        }
      ]
    },
    {
      "cell_type": "markdown",
      "metadata": {
        "id": "IAyzk994Xr-f"
      },
      "source": [
        "###การเปลี่ยนชนิดของตัวเเปร Varaible casting "
      ]
    },
    {
      "cell_type": "code",
      "metadata": {
        "colab": {
          "base_uri": "https://localhost:8080/"
        },
        "id": "2t1CBTLZPnAG",
        "outputId": "965b8f39-bf72-4b17-c37b-3d937b3c22a9"
      },
      "source": [
        "aaa+ int(bbb) #bbbคือcharecterถ้าไปบวกกับ float หรือ int จะเกิดerror ดังนั้นจึงใช้ชนิดของตัวเเปรvaraible casting เพื่อให้ค่าสามารถบวกกันได้"
      ],
      "execution_count": 18,
      "outputs": [
        {
          "output_type": "execute_result",
          "data": {
            "text/plain": [
              "123456912"
            ]
          },
          "metadata": {
            "tags": []
          },
          "execution_count": 18
        }
      ]
    },
    {
      "cell_type": "code",
      "metadata": {
        "colab": {
          "base_uri": "https://localhost:8080/"
        },
        "id": "mP-Ez2GBPnIP",
        "outputId": "c28464ab-a321-4ad6-994c-b4745763d982"
      },
      "source": [
        "cc + float(bbb)"
      ],
      "execution_count": 20,
      "outputs": [
        {
          "output_type": "execute_result",
          "data": {
            "text/plain": [
              "123456800.0"
            ]
          },
          "metadata": {
            "tags": []
          },
          "execution_count": 20
        }
      ]
    },
    {
      "cell_type": "code",
      "metadata": {
        "colab": {
          "base_uri": "https://localhost:8080/",
          "height": 35
        },
        "id": "MD3VR68AZxFP",
        "outputId": "605c82f3-179e-4c53-e3d6-01fcbb640778"
      },
      "source": [
        "str (aaa) #strคืออยากรู้ค่าตัวเเปร"
      ],
      "execution_count": 21,
      "outputs": [
        {
          "output_type": "execute_result",
          "data": {
            "application/vnd.google.colaboratory.intrinsic+json": {
              "type": "string"
            },
            "text/plain": [
              "'123'"
            ]
          },
          "metadata": {
            "tags": []
          },
          "execution_count": 21
        }
      ]
    },
    {
      "cell_type": "code",
      "metadata": {
        "colab": {
          "base_uri": "https://localhost:8080/",
          "height": 35
        },
        "id": "NUxpE8ewPnLn",
        "outputId": "9500f33b-acc2-4d41-b393-035ca3cfc5cb"
      },
      "source": [
        "str(bbb)"
      ],
      "execution_count": 22,
      "outputs": [
        {
          "output_type": "execute_result",
          "data": {
            "application/vnd.google.colaboratory.intrinsic+json": {
              "type": "string"
            },
            "text/plain": [
              "'123456789'"
            ]
          },
          "metadata": {
            "tags": []
          },
          "execution_count": 22
        }
      ]
    },
    {
      "cell_type": "markdown",
      "metadata": {
        "id": "XnPnV37Dark1"
      },
      "source": [
        "### operation (operation +,-,*,/,%)"
      ]
    },
    {
      "cell_type": "code",
      "metadata": {
        "id": "aMSodqWFLrV3",
        "colab": {
          "base_uri": "https://localhost:8080/"
        },
        "outputId": "f93b28bb-370b-4d30-ed77-11ad519092b0"
      },
      "source": [
        "aaa + cc"
      ],
      "execution_count": 23,
      "outputs": [
        {
          "output_type": "execute_result",
          "data": {
            "text/plain": [
              "134.0"
            ]
          },
          "metadata": {
            "tags": []
          },
          "execution_count": 23
        }
      ]
    },
    {
      "cell_type": "code",
      "metadata": {
        "colab": {
          "base_uri": "https://localhost:8080/"
        },
        "id": "V21xdIyja7tM",
        "outputId": "63be43b5-9ed5-4ad0-c6cd-6b9ff85e1f80"
      },
      "source": [
        "aaa - cc"
      ],
      "execution_count": 24,
      "outputs": [
        {
          "output_type": "execute_result",
          "data": {
            "text/plain": [
              "112.0"
            ]
          },
          "metadata": {
            "tags": []
          },
          "execution_count": 24
        }
      ]
    },
    {
      "cell_type": "code",
      "metadata": {
        "colab": {
          "base_uri": "https://localhost:8080/"
        },
        "id": "mg0sgipKa7qL",
        "outputId": "059228b4-2303-4465-8d00-88994a61b3b4"
      },
      "source": [
        "ab = aaa*cc\r\n",
        "print(ab)"
      ],
      "execution_count": 26,
      "outputs": [
        {
          "output_type": "stream",
          "text": [
            "1353.0\n"
          ],
          "name": "stdout"
        }
      ]
    },
    {
      "cell_type": "code",
      "metadata": {
        "colab": {
          "base_uri": "https://localhost:8080/"
        },
        "id": "54Tv9JIQa7lc",
        "outputId": "e23f57ad-5ebd-4be9-b443-061f4f3e1116"
      },
      "source": [
        "ab+int(bbb)"
      ],
      "execution_count": 27,
      "outputs": [
        {
          "output_type": "execute_result",
          "data": {
            "text/plain": [
              "123458142.0"
            ]
          },
          "metadata": {
            "tags": []
          },
          "execution_count": 27
        }
      ]
    },
    {
      "cell_type": "markdown",
      "metadata": {
        "id": "nydlxex5cKH9"
      },
      "source": [
        "### % คือ modulo"
      ]
    },
    {
      "cell_type": "code",
      "metadata": {
        "colab": {
          "base_uri": "https://localhost:8080/"
        },
        "id": "wTAJ4U-sa7iD",
        "outputId": "a4f2b873-bfff-491f-f310-8ed27ddea3b5"
      },
      "source": [
        "5%3 #modulo คือ การหารเอาเศษ "
      ],
      "execution_count": 28,
      "outputs": [
        {
          "output_type": "execute_result",
          "data": {
            "text/plain": [
              "2"
            ]
          },
          "metadata": {
            "tags": []
          },
          "execution_count": 28
        }
      ]
    },
    {
      "cell_type": "code",
      "metadata": {
        "colab": {
          "base_uri": "https://localhost:8080/"
        },
        "id": "lpAR991pa7es",
        "outputId": "38306683-f1e1-43bc-cf51-7dda7194fc72"
      },
      "source": [
        "7%3"
      ],
      "execution_count": 29,
      "outputs": [
        {
          "output_type": "execute_result",
          "data": {
            "text/plain": [
              "1"
            ]
          },
          "metadata": {
            "tags": []
          },
          "execution_count": 29
        }
      ]
    },
    {
      "cell_type": "code",
      "metadata": {
        "colab": {
          "base_uri": "https://localhost:8080/"
        },
        "id": "g5APydmLa7bH",
        "outputId": "a41847e3-e8e1-4e87-d3e8-84cd8fa5df41"
      },
      "source": [
        "4%2 "
      ],
      "execution_count": 30,
      "outputs": [
        {
          "output_type": "execute_result",
          "data": {
            "text/plain": [
              "0"
            ]
          },
          "metadata": {
            "tags": []
          },
          "execution_count": 30
        }
      ]
    },
    {
      "cell_type": "markdown",
      "metadata": {
        "id": "thcWP5TNc-wP"
      },
      "source": [
        "###คำสั่ง Print เเบบพิเศษ (การformat string)"
      ]
    },
    {
      "cell_type": "code",
      "metadata": {
        "colab": {
          "base_uri": "https://localhost:8080/"
        },
        "id": "Sds9xxlta7YJ",
        "outputId": "9f4030e5-adf6-496a-b82e-43e162d497d5"
      },
      "source": [
        "print('ตัวเเปร') #สิ่งที่อยู่ข้างในprint คือตัวเเปร เเละ string"
      ],
      "execution_count": 31,
      "outputs": [
        {
          "output_type": "stream",
          "text": [
            "ตัวเเปร\n"
          ],
          "name": "stdout"
        }
      ]
    },
    {
      "cell_type": "code",
      "metadata": {
        "colab": {
          "base_uri": "https://localhost:8080/"
        },
        "id": "mPtrNJc8a7UI",
        "outputId": "466f1483-a2d0-4475-9354-c71d1110b1b8"
      },
      "source": [
        "print(f'%การหารเอาเศษเช่น5%3 = {5%3}') #เพิ่ม f หน้า 'string' เเละใช้{} ในการใส่code"
      ],
      "execution_count": 32,
      "outputs": [
        {
          "output_type": "stream",
          "text": [
            "%การหารเอาเศษเช่น5%3 = 2\n"
          ],
          "name": "stdout"
        }
      ]
    },
    {
      "cell_type": "code",
      "metadata": {
        "colab": {
          "base_uri": "https://localhost:8080/"
        },
        "id": "CStluSJ9a7Qx",
        "outputId": "c386aa50-15e5-402a-9a7d-0b5f64590942"
      },
      "source": [
        "print( f'% คือการหารเอาเศษเช่น5%2 = {5%2} \\\\\r\n",
        "  เเต่\\n/ คือการหารปกติ เช่น 5/2 = {5/2} \\\\\r\n",
        "  เเละ\\n// คือการหารเอาส่วน เช่น int(5/2) = {int(5/2)}') #\\n คือการขึ้นบรรทัดใหม่ \\\\ เป็นการตัดcode\r\n"
      ],
      "execution_count": 33,
      "outputs": [
        {
          "output_type": "stream",
          "text": [
            "% คือการหารเอาเศษเช่น5%2 = 1 \\  เเต่\n",
            "/ คือการหารปกติ เช่น 5/2 = 2.5 \\  เเละ\n",
            "// คือการหารเอาส่วน เช่น int(5/2) = 2\n"
          ],
          "name": "stdout"
        }
      ]
    },
    {
      "cell_type": "markdown",
      "metadata": {
        "id": "CrHgzbvLgSDD"
      },
      "source": [
        "### Data Structure (โครงสร้างข้อมูล)"
      ]
    },
    {
      "cell_type": "markdown",
      "metadata": {
        "id": "GA67eLK9ghXZ"
      },
      "source": [
        "#### List คือการเอาตัวเเปรหลายๆตัวมาเรียงต่อกัน\r\n",
        "list สามารถสร้างได้ 2 เเบบดังนี้"
      ]
    },
    {
      "cell_type": "markdown",
      "metadata": {
        "id": "BXTyuXVLgy5V"
      },
      "source": [
        "เเบบที่1 > Square brackets "
      ]
    },
    {
      "cell_type": "code",
      "metadata": {
        "colab": {
          "base_uri": "https://localhost:8080/"
        },
        "id": "OsmsczruheCw",
        "outputId": "0082e0da-9d7b-4578-91f0-18ffc2409f99"
      },
      "source": [
        "list_a = []\r\n",
        "print(list_a)"
      ],
      "execution_count": 35,
      "outputs": [
        {
          "output_type": "stream",
          "text": [
            "[]\n"
          ],
          "name": "stdout"
        }
      ]
    },
    {
      "cell_type": "code",
      "metadata": {
        "colab": {
          "base_uri": "https://localhost:8080/"
        },
        "id": "-229Gbybhn_k",
        "outputId": "572d351a-8183-4522-b8c6-82251d5d9863"
      },
      "source": [
        "list_b = [1,5,'M']\r\n",
        "print (list_b)"
      ],
      "execution_count": 36,
      "outputs": [
        {
          "output_type": "stream",
          "text": [
            "[1, 5, 'M']\n"
          ],
          "name": "stdout"
        }
      ]
    },
    {
      "cell_type": "code",
      "metadata": {
        "colab": {
          "base_uri": "https://localhost:8080/"
        },
        "id": "Vxxw4rqIa7MP",
        "outputId": "5aaf1a8e-9a11-4977-fb60-283daccb2a40"
      },
      "source": [
        "[111,'a','มิวซ์',aaa]"
      ],
      "execution_count": 34,
      "outputs": [
        {
          "output_type": "execute_result",
          "data": {
            "text/plain": [
              "[111, 'a', 'มิวซ์', 123]"
            ]
          },
          "metadata": {
            "tags": []
          },
          "execution_count": 34
        }
      ]
    },
    {
      "cell_type": "markdown",
      "metadata": {
        "id": "Gf9bL7wvh2Ew"
      },
      "source": [
        "###ลำดับที่อยู่ใน list มีความสำคัญ (ลำดับในlist เริ่มจาก 0,1,2,...)"
      ]
    },
    {
      "cell_type": "code",
      "metadata": {
        "colab": {
          "base_uri": "https://localhost:8080/",
          "height": 35
        },
        "id": "vKpXY-O6iUdn",
        "outputId": "eb03b27d-415d-460c-b2ef-93ff3bb5ab59"
      },
      "source": [
        "list_b[2]"
      ],
      "execution_count": 38,
      "outputs": [
        {
          "output_type": "execute_result",
          "data": {
            "application/vnd.google.colaboratory.intrinsic+json": {
              "type": "string"
            },
            "text/plain": [
              "'M'"
            ]
          },
          "metadata": {
            "tags": []
          },
          "execution_count": 38
        }
      ]
    },
    {
      "cell_type": "markdown",
      "metadata": {
        "id": "eH_pUBJeijYq"
      },
      "source": [
        "### เเบบที่2"
      ]
    },
    {
      "cell_type": "code",
      "metadata": {
        "colab": {
          "base_uri": "https://localhost:8080/"
        },
        "id": "oNTtgxwra7Ic",
        "outputId": "4504983f-4183-418e-dd1f-a753ac68a26e"
      },
      "source": [
        "list_c = list() #listที่ยังไม่มีอะไรคือlist ว่าง\r\n",
        "print(list_c)"
      ],
      "execution_count": 39,
      "outputs": [
        {
          "output_type": "stream",
          "text": [
            "[]\n"
          ],
          "name": "stdout"
        }
      ]
    },
    {
      "cell_type": "markdown",
      "metadata": {
        "id": "EBVTmb8Xi97w"
      },
      "source": [
        "### append()การเพิ่มสมาชิกใน list "
      ]
    },
    {
      "cell_type": "code",
      "metadata": {
        "colab": {
          "base_uri": "https://localhost:8080/"
        },
        "id": "boquxbHUjFLO",
        "outputId": "ce6986a2-c049-49ff-b26f-530a153c375a"
      },
      "source": [
        "list_b.append('v')\r\n",
        "print(list_b)"
      ],
      "execution_count": 40,
      "outputs": [
        {
          "output_type": "stream",
          "text": [
            "[1, 5, 'M', 'v']\n"
          ],
          "name": "stdout"
        }
      ]
    },
    {
      "cell_type": "markdown",
      "metadata": {
        "id": "Ro3dqS7DkjuA"
      },
      "source": [
        "0 คือสมาชิกตัวเเรก ,1 คือสมาชิกตัวสุดท้าย"
      ]
    },
    {
      "cell_type": "code",
      "metadata": {
        "colab": {
          "base_uri": "https://localhost:8080/",
          "height": 35
        },
        "id": "89U_h46Ca7DY",
        "outputId": "9f053096-95fe-4985-e958-e975e0319800"
      },
      "source": [
        "list_b[-1] #ตัวที่อยู่ในวงเล็บหลังจากตัวเเปร list เรียกว่า index ใช้กับข้อมูลใน list (ชี้จากด้านหน้าหรือหลังก็ได้)"
      ],
      "execution_count": 41,
      "outputs": [
        {
          "output_type": "execute_result",
          "data": {
            "application/vnd.google.colaboratory.intrinsic+json": {
              "type": "string"
            },
            "text/plain": [
              "'v'"
            ]
          },
          "metadata": {
            "tags": []
          },
          "execution_count": 41
        }
      ]
    },
    {
      "cell_type": "markdown",
      "metadata": {
        "id": "aZfOMgR2kEhs"
      },
      "source": [
        "### Sring > list of charaters"
      ]
    },
    {
      "cell_type": "code",
      "metadata": {
        "colab": {
          "base_uri": "https://localhost:8080/",
          "height": 35
        },
        "id": "nuX7hsP7a63d",
        "outputId": "4cbff4ac-d814-461d-c927-577de2e5c99a"
      },
      "source": [
        "t = 'python is easy'\r\n",
        "t"
      ],
      "execution_count": 43,
      "outputs": [
        {
          "output_type": "execute_result",
          "data": {
            "application/vnd.google.colaboratory.intrinsic+json": {
              "type": "string"
            },
            "text/plain": [
              "'python is easy'"
            ]
          },
          "metadata": {
            "tags": []
          },
          "execution_count": 43
        }
      ]
    },
    {
      "cell_type": "code",
      "metadata": {
        "id": "c6Zavov-kZgL"
      },
      "source": [
        ""
      ],
      "execution_count": null,
      "outputs": []
    }
  ]
}