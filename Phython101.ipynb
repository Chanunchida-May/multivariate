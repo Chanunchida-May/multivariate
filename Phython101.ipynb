{
  "nbformat": 4,
  "nbformat_minor": 0,
  "metadata": {
    "colab": {
      "name": "Phython101.ipynb",
      "provenance": [],
      "authorship_tag": "ABX9TyP+qAA1spGhycO7q7MfEPBc",
      "include_colab_link": true
    },
    "kernelspec": {
      "name": "python3",
      "display_name": "Python 3"
    }
  },
  "cells": [
    {
      "cell_type": "markdown",
      "metadata": {
        "id": "view-in-github",
        "colab_type": "text"
      },
      "source": [
        "<a href=\"https://colab.research.google.com/github/Chanunchida-May/multivariate/blob/main/Phython101.ipynb\" target=\"_parent\"><img src=\"https://colab.research.google.com/assets/colab-badge.svg\" alt=\"Open In Colab\"/></a>"
      ]
    },
    {
      "cell_type": "markdown",
      "metadata": {
        "id": "9L33wt8PPpuk"
      },
      "source": [
        "ตัวเเปร varieble"
      ]
    },
    {
      "cell_type": "markdown",
      "metadata": {
        "id": "b6DxYYoGQSWf"
      },
      "source": [
        "หลักการตั้งชื่อตัวเเปรเบื้องต้น\r\n",
        "\r\n",
        "1.ตั้งชื่อภาษาอังกฤษ\r\n",
        "\r\n",
        "2.ใช้ตัวเลขได้เเต่ห้ามขึ้นต้นด้วยตัวเลข\r\n",
        "\r\n",
        "3.ห้ามมีเว้นวรรค\r\n",
        "\r\n",
        "4.ตัวเล็กกับตัวใหญ่ต่างกัน\r\n",
        "\r\n",
        "การ RUN เราสามารถกด SHIFT เเล้ว ENTER "
      ]
    },
    {
      "cell_type": "markdown",
      "metadata": {
        "id": "cp6gXk0dQ9WG"
      },
      "source": [
        "มี output 2 mode ออกจากหน้าจอเข้าไปในตัวเเปร"
      ]
    },
    {
      "cell_type": "code",
      "metadata": {
        "colab": {
          "base_uri": "https://localhost:8080/"
        },
        "id": "LYRv2ROiQxO-",
        "outputId": "593618f5-34d1-4d2b-adbf-01ca2b16acc6"
      },
      "source": [
        "3.14159 #HASTAG คือcomment  >>> คือ output ที่ออกหน้าจอ"
      ],
      "execution_count": 1,
      "outputs": [
        {
          "output_type": "execute_result",
          "data": {
            "text/plain": [
              "3.14159"
            ]
          },
          "metadata": {
            "tags": []
          },
          "execution_count": 1
        }
      ]
    },
    {
      "cell_type": "code",
      "metadata": {
        "id": "iyEgEuwtLqns"
      },
      "source": [
        "pi = 3.14159 #output ที่อยู่ในตัวแปร"
      ],
      "execution_count": null,
      "outputs": []
    },
    {
      "cell_type": "code",
      "metadata": {
        "colab": {
          "base_uri": "https://localhost:8080/"
        },
        "id": "9oH9pYVdPoaS",
        "outputId": "6abc8538-dd5e-4c00-be8b-3a282f634b0a"
      },
      "source": [
        "pi"
      ],
      "execution_count": null,
      "outputs": [
        {
          "output_type": "execute_result",
          "data": {
            "text/plain": [
              "3.14159"
            ]
          },
          "metadata": {
            "tags": []
          },
          "execution_count": 7
        }
      ]
    },
    {
      "cell_type": "code",
      "metadata": {
        "colab": {
          "base_uri": "https://localhost:8080/"
        },
        "id": "4P2v7UM1Pmjr",
        "outputId": "557d73f7-714c-4536-d535-f90acbfedd67"
      },
      "source": [
        "a = 456789 # คำสั่ง Print สามารถเเสดงผลของตัวเลขที่เราใส่ไปได้ เช่น a=456789 เเสดงออกมาได้คือ 456789\r\n",
        "print(a)"
      ],
      "execution_count": null,
      "outputs": [
        {
          "output_type": "stream",
          "text": [
            "456789\n"
          ],
          "name": "stdout"
        }
      ]
    },
    {
      "cell_type": "markdown",
      "metadata": {
        "id": "inuQuOOKSeuB"
      },
      "source": [
        "ชนิดของตัวเเปร 3 ชนิด"
      ]
    },
    {
      "cell_type": "markdown",
      "metadata": {
        "id": "bhSJWHJzT7C_"
      },
      "source": [
        "# จำนวนเต็ม (integer,int) "
      ]
    },
    {
      "cell_type": "code",
      "metadata": {
        "colab": {
          "base_uri": "https://localhost:8080/"
        },
        "id": "iZBbRRaFPmvl",
        "outputId": "4fd7379c-aafe-482c-e0e5-85b3a5829d44"
      },
      "source": [
        "aaa = 123\r\n",
        "print(aaa)"
      ],
      "execution_count": null,
      "outputs": [
        {
          "output_type": "stream",
          "text": [
            "123\n"
          ],
          "name": "stdout"
        }
      ]
    },
    {
      "cell_type": "markdown",
      "metadata": {
        "id": "kDsJ0QwsUROW"
      },
      "source": [
        "##จำนวนจริง (float)"
      ]
    },
    {
      "cell_type": "code",
      "metadata": {
        "colab": {
          "base_uri": "https://localhost:8080/"
        },
        "id": "KkR4nnJhPmyf",
        "outputId": "dbdf72ed-18f8-4eaa-ace5-e196c4af089a"
      },
      "source": [
        "cc =11.# คำสั่ง Print สามารถเเสดงผลของตัวเลขที่เราใส่ไปได้\r\n",
        "print(cc)"
      ],
      "execution_count": null,
      "outputs": [
        {
          "output_type": "stream",
          "text": [
            "11.0\n"
          ],
          "name": "stdout"
        }
      ]
    },
    {
      "cell_type": "markdown",
      "metadata": {
        "id": "Zs5rWHnSUt8i"
      },
      "source": [
        "### ตัวอักษร-ข้อความ(character เเละ text,string)\r\n"
      ]
    },
    {
      "cell_type": "code",
      "metadata": {
        "colab": {
          "base_uri": "https://localhost:8080/"
        },
        "id": "0WxkfkTgPm1F",
        "outputId": "42a2f976-5a67-438d-e7f4-813466caa90a"
      },
      "source": [
        "bbb ='123456789' #ใช้ single quote or double quote \"\" ล้อมด้วยตัวหนังสือพร้อมระบุว่าเป็น character string\r\n",
        "print(bbb)"
      ],
      "execution_count": null,
      "outputs": [
        {
          "output_type": "stream",
          "text": [
            "123456789\n"
          ],
          "name": "stdout"
        }
      ]
    },
    {
      "cell_type": "code",
      "metadata": {
        "colab": {
          "base_uri": "https://localhost:8080/"
        },
        "id": "lNwW0LjgPm4G",
        "outputId": "0838750d-7dde-4284-dc90-1ceca74d2135"
      },
      "source": [
        "aaa + cc #เมื่อint+float = float"
      ],
      "execution_count": null,
      "outputs": [
        {
          "output_type": "execute_result",
          "data": {
            "text/plain": [
              "134.0"
            ]
          },
          "metadata": {
            "tags": []
          },
          "execution_count": 14
        }
      ]
    },
    {
      "cell_type": "code",
      "metadata": {
        "colab": {
          "base_uri": "https://localhost:8080/",
          "height": 162
        },
        "id": "KyxN6gQPPm65",
        "outputId": "af002b80-96cd-46d0-e465-0cf5107f5552"
      },
      "source": [
        "cc + bbb #float+character=error เเก้ปัญหาerrorได้จากข้อความบรรทัดสุดท้าย"
      ],
      "execution_count": null,
      "outputs": [
        {
          "output_type": "error",
          "ename": "TypeError",
          "evalue": "ignored",
          "traceback": [
            "\u001b[0;31m---------------------------------------------------------------------------\u001b[0m",
            "\u001b[0;31mTypeError\u001b[0m                                 Traceback (most recent call last)",
            "\u001b[0;32m<ipython-input-15-d45b41dc3fc3>\u001b[0m in \u001b[0;36m<module>\u001b[0;34m()\u001b[0m\n\u001b[0;32m----> 1\u001b[0;31m \u001b[0mcc\u001b[0m \u001b[0;34m+\u001b[0m \u001b[0mbbb\u001b[0m\u001b[0;34m\u001b[0m\u001b[0;34m\u001b[0m\u001b[0m\n\u001b[0m",
            "\u001b[0;31mTypeError\u001b[0m: unsupported operand type(s) for +: 'float' and 'str'"
          ]
        }
      ]
    },
    {
      "cell_type": "code",
      "metadata": {
        "colab": {
          "base_uri": "https://localhost:8080/"
        },
        "id": "XPPvYioDPm9a",
        "outputId": "82490a49-789a-461b-bad3-1c7b8b4ed4e5"
      },
      "source": [
        "ddd = 'ชนัญชิดา'\r\n",
        "print(ddd)"
      ],
      "execution_count": null,
      "outputs": [
        {
          "output_type": "stream",
          "text": [
            "ชนัญชิดา\n"
          ],
          "name": "stdout"
        }
      ]
    },
    {
      "cell_type": "markdown",
      "metadata": {
        "id": "IAyzk994Xr-f"
      },
      "source": [
        "###การเปลี่ยนชนิดของตัวเเปร Varaible casting "
      ]
    },
    {
      "cell_type": "code",
      "metadata": {
        "colab": {
          "base_uri": "https://localhost:8080/"
        },
        "id": "2t1CBTLZPnAG",
        "outputId": "965b8f39-bf72-4b17-c37b-3d937b3c22a9"
      },
      "source": [
        "aaa+ int(bbb) #bbbคือcharecterถ้าไปบวกกับ float หรือ int จะเกิดerror ดังนั้นจึงใช้ชนิดของตัวเเปรvaraible casting เพื่อให้ค่าสามารถบวกกันได้"
      ],
      "execution_count": null,
      "outputs": [
        {
          "output_type": "execute_result",
          "data": {
            "text/plain": [
              "123456912"
            ]
          },
          "metadata": {
            "tags": []
          },
          "execution_count": 18
        }
      ]
    },
    {
      "cell_type": "code",
      "metadata": {
        "colab": {
          "base_uri": "https://localhost:8080/"
        },
        "id": "mP-Ez2GBPnIP",
        "outputId": "c28464ab-a321-4ad6-994c-b4745763d982"
      },
      "source": [
        "cc + float(bbb)"
      ],
      "execution_count": null,
      "outputs": [
        {
          "output_type": "execute_result",
          "data": {
            "text/plain": [
              "123456800.0"
            ]
          },
          "metadata": {
            "tags": []
          },
          "execution_count": 20
        }
      ]
    },
    {
      "cell_type": "code",
      "metadata": {
        "colab": {
          "base_uri": "https://localhost:8080/",
          "height": 35
        },
        "id": "MD3VR68AZxFP",
        "outputId": "605c82f3-179e-4c53-e3d6-01fcbb640778"
      },
      "source": [
        "str (aaa) #strคืออยากรู้ค่าตัวเเปร"
      ],
      "execution_count": null,
      "outputs": [
        {
          "output_type": "execute_result",
          "data": {
            "application/vnd.google.colaboratory.intrinsic+json": {
              "type": "string"
            },
            "text/plain": [
              "'123'"
            ]
          },
          "metadata": {
            "tags": []
          },
          "execution_count": 21
        }
      ]
    },
    {
      "cell_type": "code",
      "metadata": {
        "colab": {
          "base_uri": "https://localhost:8080/",
          "height": 35
        },
        "id": "NUxpE8ewPnLn",
        "outputId": "9500f33b-acc2-4d41-b393-035ca3cfc5cb"
      },
      "source": [
        "str(bbb)"
      ],
      "execution_count": null,
      "outputs": [
        {
          "output_type": "execute_result",
          "data": {
            "application/vnd.google.colaboratory.intrinsic+json": {
              "type": "string"
            },
            "text/plain": [
              "'123456789'"
            ]
          },
          "metadata": {
            "tags": []
          },
          "execution_count": 22
        }
      ]
    },
    {
      "cell_type": "markdown",
      "metadata": {
        "id": "XnPnV37Dark1"
      },
      "source": [
        "### operation (operation +,-,*,/,%)"
      ]
    },
    {
      "cell_type": "code",
      "metadata": {
        "id": "aMSodqWFLrV3",
        "colab": {
          "base_uri": "https://localhost:8080/"
        },
        "outputId": "f93b28bb-370b-4d30-ed77-11ad519092b0"
      },
      "source": [
        "aaa + cc"
      ],
      "execution_count": null,
      "outputs": [
        {
          "output_type": "execute_result",
          "data": {
            "text/plain": [
              "134.0"
            ]
          },
          "metadata": {
            "tags": []
          },
          "execution_count": 23
        }
      ]
    },
    {
      "cell_type": "code",
      "metadata": {
        "colab": {
          "base_uri": "https://localhost:8080/"
        },
        "id": "V21xdIyja7tM",
        "outputId": "63be43b5-9ed5-4ad0-c6cd-6b9ff85e1f80"
      },
      "source": [
        "aaa - cc"
      ],
      "execution_count": null,
      "outputs": [
        {
          "output_type": "execute_result",
          "data": {
            "text/plain": [
              "112.0"
            ]
          },
          "metadata": {
            "tags": []
          },
          "execution_count": 24
        }
      ]
    },
    {
      "cell_type": "code",
      "metadata": {
        "colab": {
          "base_uri": "https://localhost:8080/"
        },
        "id": "mg0sgipKa7qL",
        "outputId": "059228b4-2303-4465-8d00-88994a61b3b4"
      },
      "source": [
        "ab = aaa*cc\r\n",
        "print(ab)"
      ],
      "execution_count": null,
      "outputs": [
        {
          "output_type": "stream",
          "text": [
            "1353.0\n"
          ],
          "name": "stdout"
        }
      ]
    },
    {
      "cell_type": "code",
      "metadata": {
        "colab": {
          "base_uri": "https://localhost:8080/"
        },
        "id": "54Tv9JIQa7lc",
        "outputId": "e23f57ad-5ebd-4be9-b443-061f4f3e1116"
      },
      "source": [
        "ab+int(bbb)"
      ],
      "execution_count": null,
      "outputs": [
        {
          "output_type": "execute_result",
          "data": {
            "text/plain": [
              "123458142.0"
            ]
          },
          "metadata": {
            "tags": []
          },
          "execution_count": 27
        }
      ]
    },
    {
      "cell_type": "markdown",
      "metadata": {
        "id": "nydlxex5cKH9"
      },
      "source": [
        "### % คือ modulo"
      ]
    },
    {
      "cell_type": "code",
      "metadata": {
        "colab": {
          "base_uri": "https://localhost:8080/"
        },
        "id": "wTAJ4U-sa7iD",
        "outputId": "a4f2b873-bfff-491f-f310-8ed27ddea3b5"
      },
      "source": [
        "5%3 #modulo คือ การหารเอาเศษ "
      ],
      "execution_count": null,
      "outputs": [
        {
          "output_type": "execute_result",
          "data": {
            "text/plain": [
              "2"
            ]
          },
          "metadata": {
            "tags": []
          },
          "execution_count": 28
        }
      ]
    },
    {
      "cell_type": "code",
      "metadata": {
        "colab": {
          "base_uri": "https://localhost:8080/"
        },
        "id": "lpAR991pa7es",
        "outputId": "38306683-f1e1-43bc-cf51-7dda7194fc72"
      },
      "source": [
        "7%3"
      ],
      "execution_count": null,
      "outputs": [
        {
          "output_type": "execute_result",
          "data": {
            "text/plain": [
              "1"
            ]
          },
          "metadata": {
            "tags": []
          },
          "execution_count": 29
        }
      ]
    },
    {
      "cell_type": "code",
      "metadata": {
        "colab": {
          "base_uri": "https://localhost:8080/"
        },
        "id": "g5APydmLa7bH",
        "outputId": "a41847e3-e8e1-4e87-d3e8-84cd8fa5df41"
      },
      "source": [
        "4%2 "
      ],
      "execution_count": null,
      "outputs": [
        {
          "output_type": "execute_result",
          "data": {
            "text/plain": [
              "0"
            ]
          },
          "metadata": {
            "tags": []
          },
          "execution_count": 30
        }
      ]
    },
    {
      "cell_type": "markdown",
      "metadata": {
        "id": "thcWP5TNc-wP"
      },
      "source": [
        "###คำสั่ง Print เเบบพิเศษ (การformat string)"
      ]
    },
    {
      "cell_type": "code",
      "metadata": {
        "colab": {
          "base_uri": "https://localhost:8080/"
        },
        "id": "Sds9xxlta7YJ",
        "outputId": "9f4030e5-adf6-496a-b82e-43e162d497d5"
      },
      "source": [
        "print('ตัวเเปร') #สิ่งที่อยู่ข้างในprint คือตัวเเปร เเละ string"
      ],
      "execution_count": null,
      "outputs": [
        {
          "output_type": "stream",
          "text": [
            "ตัวเเปร\n"
          ],
          "name": "stdout"
        }
      ]
    },
    {
      "cell_type": "code",
      "metadata": {
        "colab": {
          "base_uri": "https://localhost:8080/"
        },
        "id": "mPtrNJc8a7UI",
        "outputId": "466f1483-a2d0-4475-9354-c71d1110b1b8"
      },
      "source": [
        "print(f'%การหารเอาเศษเช่น5%3 = {5%3}') #เพิ่ม f หน้า 'string' เเละใช้{} ในการใส่code"
      ],
      "execution_count": null,
      "outputs": [
        {
          "output_type": "stream",
          "text": [
            "%การหารเอาเศษเช่น5%3 = 2\n"
          ],
          "name": "stdout"
        }
      ]
    },
    {
      "cell_type": "code",
      "metadata": {
        "colab": {
          "base_uri": "https://localhost:8080/"
        },
        "id": "CStluSJ9a7Qx",
        "outputId": "c386aa50-15e5-402a-9a7d-0b5f64590942"
      },
      "source": [
        "print( f'% คือการหารเอาเศษเช่น5%2 = {5%2} \\\\\r\n",
        "  เเต่\\n/ คือการหารปกติ เช่น 5/2 = {5/2} \\\\\r\n",
        "  เเละ\\n// คือการหารเอาส่วน เช่น int(5/2) = {int(5/2)}') #\\n คือการขึ้นบรรทัดใหม่ \\\\ เป็นการตัดcode\r\n"
      ],
      "execution_count": null,
      "outputs": [
        {
          "output_type": "stream",
          "text": [
            "% คือการหารเอาเศษเช่น5%2 = 1 \\  เเต่\n",
            "/ คือการหารปกติ เช่น 5/2 = 2.5 \\  เเละ\n",
            "// คือการหารเอาส่วน เช่น int(5/2) = 2\n"
          ],
          "name": "stdout"
        }
      ]
    },
    {
      "cell_type": "markdown",
      "metadata": {
        "id": "CrHgzbvLgSDD"
      },
      "source": [
        "### Data Structure (โครงสร้างข้อมูล)"
      ]
    },
    {
      "cell_type": "markdown",
      "metadata": {
        "id": "GA67eLK9ghXZ"
      },
      "source": [
        "#### List คือการเอาตัวเเปรหลายๆตัวมาเรียงต่อกัน\r\n",
        "list สามารถสร้างได้ 2 เเบบดังนี้"
      ]
    },
    {
      "cell_type": "markdown",
      "metadata": {
        "id": "BXTyuXVLgy5V"
      },
      "source": [
        "เเบบที่1 > Square brackets "
      ]
    },
    {
      "cell_type": "code",
      "metadata": {
        "colab": {
          "base_uri": "https://localhost:8080/"
        },
        "id": "OsmsczruheCw",
        "outputId": "0082e0da-9d7b-4578-91f0-18ffc2409f99"
      },
      "source": [
        "list_a = []\r\n",
        "print(list_a)"
      ],
      "execution_count": null,
      "outputs": [
        {
          "output_type": "stream",
          "text": [
            "[]\n"
          ],
          "name": "stdout"
        }
      ]
    },
    {
      "cell_type": "code",
      "metadata": {
        "colab": {
          "base_uri": "https://localhost:8080/"
        },
        "id": "-229Gbybhn_k",
        "outputId": "572d351a-8183-4522-b8c6-82251d5d9863"
      },
      "source": [
        "list_b = [1,5,'M']\r\n",
        "print (list_b)"
      ],
      "execution_count": null,
      "outputs": [
        {
          "output_type": "stream",
          "text": [
            "[1, 5, 'M']\n"
          ],
          "name": "stdout"
        }
      ]
    },
    {
      "cell_type": "code",
      "metadata": {
        "colab": {
          "base_uri": "https://localhost:8080/"
        },
        "id": "Vxxw4rqIa7MP",
        "outputId": "c48ad457-4fd8-434b-af6f-d2ea8f3cb521"
      },
      "source": [
        "[111,'a','มิวซ์','aaa']"
      ],
      "execution_count": 36,
      "outputs": [
        {
          "output_type": "execute_result",
          "data": {
            "text/plain": [
              "[111, 'a', 'มิวซ์', 'aaa']"
            ]
          },
          "metadata": {
            "tags": []
          },
          "execution_count": 36
        }
      ]
    },
    {
      "cell_type": "markdown",
      "metadata": {
        "id": "Gf9bL7wvh2Ew"
      },
      "source": [
        "###ลำดับที่อยู่ใน list มีความสำคัญ (ลำดับในlist เริ่มจาก 0,1,2,...)"
      ]
    },
    {
      "cell_type": "code",
      "metadata": {
        "colab": {
          "base_uri": "https://localhost:8080/",
          "height": 35
        },
        "id": "vKpXY-O6iUdn",
        "outputId": "eb03b27d-415d-460c-b2ef-93ff3bb5ab59"
      },
      "source": [
        "list_b[2]"
      ],
      "execution_count": null,
      "outputs": [
        {
          "output_type": "execute_result",
          "data": {
            "application/vnd.google.colaboratory.intrinsic+json": {
              "type": "string"
            },
            "text/plain": [
              "'M'"
            ]
          },
          "metadata": {
            "tags": []
          },
          "execution_count": 38
        }
      ]
    },
    {
      "cell_type": "markdown",
      "metadata": {
        "id": "eH_pUBJeijYq"
      },
      "source": [
        "### เเบบที่2"
      ]
    },
    {
      "cell_type": "code",
      "metadata": {
        "colab": {
          "base_uri": "https://localhost:8080/"
        },
        "id": "oNTtgxwra7Ic",
        "outputId": "4504983f-4183-418e-dd1f-a753ac68a26e"
      },
      "source": [
        "list_c = list() #listที่ยังไม่มีอะไรคือlist ว่าง\r\n",
        "print(list_c)"
      ],
      "execution_count": null,
      "outputs": [
        {
          "output_type": "stream",
          "text": [
            "[]\n"
          ],
          "name": "stdout"
        }
      ]
    },
    {
      "cell_type": "markdown",
      "metadata": {
        "id": "EBVTmb8Xi97w"
      },
      "source": [
        "### append()การเพิ่มสมาชิกใน list "
      ]
    },
    {
      "cell_type": "code",
      "metadata": {
        "colab": {
          "base_uri": "https://localhost:8080/"
        },
        "id": "boquxbHUjFLO",
        "outputId": "ce6986a2-c049-49ff-b26f-530a153c375a"
      },
      "source": [
        "list_b.append('v')\r\n",
        "print(list_b)"
      ],
      "execution_count": null,
      "outputs": [
        {
          "output_type": "stream",
          "text": [
            "[1, 5, 'M', 'v']\n"
          ],
          "name": "stdout"
        }
      ]
    },
    {
      "cell_type": "markdown",
      "metadata": {
        "id": "Ro3dqS7DkjuA"
      },
      "source": [
        "0 คือสมาชิกตัวเเรก ,1 คือสมาชิกตัวสุดท้าย"
      ]
    },
    {
      "cell_type": "code",
      "metadata": {
        "colab": {
          "base_uri": "https://localhost:8080/",
          "height": 35
        },
        "id": "89U_h46Ca7DY",
        "outputId": "9f053096-95fe-4985-e958-e975e0319800"
      },
      "source": [
        "list_b[-1] #ตัวที่อยู่ในวงเล็บหลังจากตัวเเปร list เรียกว่า index ใช้กับข้อมูลใน list (ชี้จากด้านหน้าหรือหลังก็ได้)"
      ],
      "execution_count": null,
      "outputs": [
        {
          "output_type": "execute_result",
          "data": {
            "application/vnd.google.colaboratory.intrinsic+json": {
              "type": "string"
            },
            "text/plain": [
              "'v'"
            ]
          },
          "metadata": {
            "tags": []
          },
          "execution_count": 41
        }
      ]
    },
    {
      "cell_type": "markdown",
      "metadata": {
        "id": "aZfOMgR2kEhs"
      },
      "source": [
        "### Sring > list of charaters"
      ]
    },
    {
      "cell_type": "code",
      "metadata": {
        "colab": {
          "base_uri": "https://localhost:8080/"
        },
        "id": "nuX7hsP7a63d",
        "outputId": "8c4c8814-9b4f-4f21-b452-954bcdfdecb4"
      },
      "source": [
        "t = 'python is easy'\r\n",
        "print(t)"
      ],
      "execution_count": 5,
      "outputs": [
        {
          "output_type": "stream",
          "text": [
            "python is easy\n"
          ],
          "name": "stdout"
        }
      ]
    },
    {
      "cell_type": "code",
      "metadata": {
        "colab": {
          "base_uri": "https://localhost:8080/",
          "height": 35
        },
        "id": "GVHagxeIintU",
        "outputId": "e23f7f69-4a7f-469b-fad3-9d1d0d25c442"
      },
      "source": [
        "t[1]"
      ],
      "execution_count": 6,
      "outputs": [
        {
          "output_type": "execute_result",
          "data": {
            "application/vnd.google.colaboratory.intrinsic+json": {
              "type": "string"
            },
            "text/plain": [
              "'y'"
            ]
          },
          "metadata": {
            "tags": []
          },
          "execution_count": 6
        }
      ]
    },
    {
      "cell_type": "code",
      "metadata": {
        "colab": {
          "base_uri": "https://localhost:8080/",
          "height": 35
        },
        "id": "RTdrOxVPinqo",
        "outputId": "4bb97478-ca85-4b41-ffb8-703d2fe3c4a1"
      },
      "source": [
        "t[-4]"
      ],
      "execution_count": 7,
      "outputs": [
        {
          "output_type": "execute_result",
          "data": {
            "application/vnd.google.colaboratory.intrinsic+json": {
              "type": "string"
            },
            "text/plain": [
              "'e'"
            ]
          },
          "metadata": {
            "tags": []
          },
          "execution_count": 7
        }
      ]
    },
    {
      "cell_type": "code",
      "metadata": {
        "colab": {
          "base_uri": "https://localhost:8080/",
          "height": 35
        },
        "id": "ClgR-VXTinn5",
        "outputId": "74dcbb20-e996-4802-9f64-539c566c88b3"
      },
      "source": [
        "t[6]"
      ],
      "execution_count": 8,
      "outputs": [
        {
          "output_type": "execute_result",
          "data": {
            "application/vnd.google.colaboratory.intrinsic+json": {
              "type": "string"
            },
            "text/plain": [
              "' '"
            ]
          },
          "metadata": {
            "tags": []
          },
          "execution_count": 8
        }
      ]
    },
    {
      "cell_type": "code",
      "metadata": {
        "colab": {
          "base_uri": "https://localhost:8080/"
        },
        "id": "924TzXFMinkp",
        "outputId": "16ab3e35-ad32-4fdd-91a2-752147726773"
      },
      "source": [
        "len(t)"
      ],
      "execution_count": 13,
      "outputs": [
        {
          "output_type": "execute_result",
          "data": {
            "text/plain": [
              "14"
            ]
          },
          "metadata": {
            "tags": []
          },
          "execution_count": 13
        }
      ]
    },
    {
      "cell_type": "markdown",
      "metadata": {
        "id": "x14wCmf1ldJd"
      },
      "source": [
        "### ตัวที่อยู่ข้างใน[  ] เราเรียกว่า index (ตัวชี้)"
      ]
    },
    {
      "cell_type": "code",
      "metadata": {
        "colab": {
          "base_uri": "https://localhost:8080/"
        },
        "id": "rqvknscSl7SI",
        "outputId": "089a113f-9958-425a-86b4-791c0ea37697"
      },
      "source": [
        "print(t)\r\n",
        "print(t[7:9])\r\n",
        "print(len(t[7:9])) ##เเปลว่ามีสมาชิก 2 ตัว คือ is"
      ],
      "execution_count": 17,
      "outputs": [
        {
          "output_type": "stream",
          "text": [
            "python is easy\n",
            "is\n",
            "2\n"
          ],
          "name": "stdout"
        }
      ]
    },
    {
      "cell_type": "code",
      "metadata": {
        "colab": {
          "base_uri": "https://localhost:8080/",
          "height": 35
        },
        "id": "sQCkSK-0nkf6",
        "outputId": "e826f1e2-c72f-4beb-fb3c-b89c8a982b44"
      },
      "source": [
        "t[0:14:2] "
      ],
      "execution_count": 18,
      "outputs": [
        {
          "output_type": "execute_result",
          "data": {
            "application/vnd.google.colaboratory.intrinsic+json": {
              "type": "string"
            },
            "text/plain": [
              "'pto ses'"
            ]
          },
          "metadata": {
            "tags": []
          },
          "execution_count": 18
        }
      ]
    },
    {
      "cell_type": "code",
      "metadata": {
        "colab": {
          "base_uri": "https://localhost:8080/"
        },
        "id": "er6oeInaoLC7",
        "outputId": "9338aa74-bfec-4f74-fb09-95ff95641982"
      },
      "source": [
        "z = [1,2,3,4,5,6,7,8,9,10]\r\n",
        "print(z[1:10:2])\r\n"
      ],
      "execution_count": 19,
      "outputs": [
        {
          "output_type": "stream",
          "text": [
            "[2, 4, 6, 8, 10]\n"
          ],
          "name": "stdout"
        }
      ]
    },
    {
      "cell_type": "markdown",
      "metadata": {
        "id": "wkcIKU24oVmj"
      },
      "source": [
        "#quiz \r\n",
        "ให้ใช้ list slicing เลือกมาเฉพาะเลขคู่"
      ]
    },
    {
      "cell_type": "markdown",
      "metadata": {
        "id": "g7gH9YLDmx3E"
      },
      "source": [
        "ถ้าเว้นว่างหน้า : หมายความว่า เริ่มตั้งเเต่ตัวเเรก\r\n",
        "\r\n",
        "ถ้าเว้นว่างหลัง : หมายความว่า ไปจนถึงตัวสุดท้าย"
      ]
    },
    {
      "cell_type": "code",
      "metadata": {
        "colab": {
          "base_uri": "https://localhost:8080/"
        },
        "id": "szNv84rapKwD",
        "outputId": "1efd92dc-5a66-4068-b953-1501a9d37eca"
      },
      "source": [
        "print(t)\r\n",
        "print(t[:6]) #colon คือการสไลด์ เเต่ถ้าหน้าcolonไม่ใส่ตัวเลขเเสดงว่าจะเริ่มตั้งเเต่ข้างหน้าlist คือเอาตั้งเเต่ตัวเเรก\r\n",
        "print(t[10:]) \r\n",
        "print(t[-4:])\r\n",
        "print(t[:])"
      ],
      "execution_count": 21,
      "outputs": [
        {
          "output_type": "stream",
          "text": [
            "python is easy\n",
            "python\n",
            "easy\n",
            "easy\n",
            "python is easy\n"
          ],
          "name": "stdout"
        }
      ]
    },
    {
      "cell_type": "code",
      "metadata": {
        "colab": {
          "base_uri": "https://localhost:8080/"
        },
        "id": "sPgQ3vvQqOlj",
        "outputId": "8147c08c-8906-4cb7-87f4-a7a02d7cdb6f"
      },
      "source": [
        "print(z[::2]) "
      ],
      "execution_count": 22,
      "outputs": [
        {
          "output_type": "stream",
          "text": [
            "[1, 3, 5, 7, 9]\n"
          ],
          "name": "stdout"
        }
      ]
    },
    {
      "cell_type": "markdown",
      "metadata": {
        "id": "7nQTrmHppsix"
      },
      "source": [
        "###เราสามารถเอา list มาต่อกันได้ด้วย + "
      ]
    },
    {
      "cell_type": "code",
      "metadata": {
        "colab": {
          "base_uri": "https://localhost:8080/",
          "height": 35
        },
        "id": "7vqLVXxIr0mK",
        "outputId": "529fda13-0438-4dfe-bac7-006d7cd0e1fa"
      },
      "source": [
        "t + '??' #มาสารถเอามาต่อ stringได้ "
      ],
      "execution_count": 24,
      "outputs": [
        {
          "output_type": "execute_result",
          "data": {
            "application/vnd.google.colaboratory.intrinsic+json": {
              "type": "string"
            },
            "text/plain": [
              "'python is easy??'"
            ]
          },
          "metadata": {
            "tags": []
          },
          "execution_count": 24
        }
      ]
    },
    {
      "cell_type": "code",
      "metadata": {
        "colab": {
          "base_uri": "https://localhost:8080/",
          "height": 162
        },
        "id": "Koli0-I-r0jT",
        "outputId": "27e66eac-969c-42f8-8cd1-2d82149bc9aa"
      },
      "source": [
        "t + list_b #ไม่สามารถเอา list มาต่อกับ string ได้"
      ],
      "execution_count": 26,
      "outputs": [
        {
          "output_type": "error",
          "ename": "NameError",
          "evalue": "ignored",
          "traceback": [
            "\u001b[0;31m---------------------------------------------------------------------------\u001b[0m",
            "\u001b[0;31mNameError\u001b[0m                                 Traceback (most recent call last)",
            "\u001b[0;32m<ipython-input-26-d8df7d2d2a9f>\u001b[0m in \u001b[0;36m<module>\u001b[0;34m()\u001b[0m\n\u001b[0;32m----> 1\u001b[0;31m \u001b[0mt\u001b[0m \u001b[0;34m+\u001b[0m \u001b[0mlist_b\u001b[0m \u001b[0;31m#ไม่สามารถเอา list มาต่อกับ string ได้\u001b[0m\u001b[0;34m\u001b[0m\u001b[0;34m\u001b[0m\u001b[0m\n\u001b[0m",
            "\u001b[0;31mNameError\u001b[0m: name 'list_b' is not defined"
          ]
        }
      ]
    },
    {
      "cell_type": "code",
      "metadata": {
        "colab": {
          "base_uri": "https://localhost:8080/",
          "height": 212
        },
        "id": "XYdVCLztr0gZ",
        "outputId": "a71a8c9c-3ac8-4e29-d197-6598eb89fff8"
      },
      "source": [
        "print(list_a)\r\n",
        "list_b\r\n",
        "print(list_b)\r\n",
        "print(list_a +list_a)"
      ],
      "execution_count": 39,
      "outputs": [
        {
          "output_type": "error",
          "ename": "NameError",
          "evalue": "ignored",
          "traceback": [
            "\u001b[0;31m---------------------------------------------------------------------------\u001b[0m",
            "\u001b[0;31mNameError\u001b[0m                                 Traceback (most recent call last)",
            "\u001b[0;32m<ipython-input-39-1c06f3268e63>\u001b[0m in \u001b[0;36m<module>\u001b[0;34m()\u001b[0m\n\u001b[0;32m----> 1\u001b[0;31m \u001b[0mprint\u001b[0m\u001b[0;34m(\u001b[0m\u001b[0mlist_a\u001b[0m\u001b[0;34m)\u001b[0m\u001b[0;34m\u001b[0m\u001b[0;34m\u001b[0m\u001b[0m\n\u001b[0m\u001b[1;32m      2\u001b[0m \u001b[0mlist_b\u001b[0m\u001b[0;34m\u001b[0m\u001b[0;34m\u001b[0m\u001b[0m\n\u001b[1;32m      3\u001b[0m \u001b[0mprint\u001b[0m\u001b[0;34m(\u001b[0m\u001b[0mlist_b\u001b[0m\u001b[0;34m)\u001b[0m\u001b[0;34m\u001b[0m\u001b[0;34m\u001b[0m\u001b[0m\n\u001b[1;32m      4\u001b[0m \u001b[0mprint\u001b[0m\u001b[0;34m(\u001b[0m\u001b[0mlist_a\u001b[0m \u001b[0;34m+\u001b[0m\u001b[0mlist_a\u001b[0m\u001b[0;34m)\u001b[0m\u001b[0;34m\u001b[0m\u001b[0;34m\u001b[0m\u001b[0m\n",
            "\u001b[0;31mNameError\u001b[0m: name 'list_a' is not defined"
          ]
        }
      ]
    },
    {
      "cell_type": "markdown",
      "metadata": {
        "id": "rl5HpVC2tx-G"
      },
      "source": [
        "##การเเบ่ง string ตามสัญลักษณ์ที่กำหนด -> split string"
      ]
    },
    {
      "cell_type": "code",
      "metadata": {
        "colab": {
          "base_uri": "https://localhost:8080/",
          "height": 35
        },
        "id": "SfVOKwAYr0Yy",
        "outputId": "352c4e8a-29ae-4f87-fa09-f89d1b61e7ba"
      },
      "source": [
        "t"
      ],
      "execution_count": 40,
      "outputs": [
        {
          "output_type": "execute_result",
          "data": {
            "application/vnd.google.colaboratory.intrinsic+json": {
              "type": "string"
            },
            "text/plain": [
              "'python is easy'"
            ]
          },
          "metadata": {
            "tags": []
          },
          "execution_count": 40
        }
      ]
    },
    {
      "cell_type": "code",
      "metadata": {
        "colab": {
          "base_uri": "https://localhost:8080/"
        },
        "id": "xbxJdABdinK1",
        "outputId": "ce80140e-a751-4f87-d9e6-aef7c71377a2"
      },
      "source": [
        "t.split(' ') "
      ],
      "execution_count": 41,
      "outputs": [
        {
          "output_type": "execute_result",
          "data": {
            "text/plain": [
              "['python', 'is', 'easy']"
            ]
          },
          "metadata": {
            "tags": []
          },
          "execution_count": 41
        }
      ]
    },
    {
      "cell_type": "code",
      "metadata": {
        "id": "ApLQuq8rlbX7"
      },
      "source": [
        "time = '12:30:15'"
      ],
      "execution_count": 42,
      "outputs": []
    },
    {
      "cell_type": "code",
      "metadata": {
        "colab": {
          "base_uri": "https://localhost:8080/"
        },
        "id": "n-dFPbAuuoEY",
        "outputId": "ca2e438e-80bf-49cf-ab41-ae96aacd4feb"
      },
      "source": [
        "time.split(':')"
      ],
      "execution_count": 44,
      "outputs": [
        {
          "output_type": "execute_result",
          "data": {
            "text/plain": [
              "['12', '30', '15']"
            ]
          },
          "metadata": {
            "tags": []
          },
          "execution_count": 44
        }
      ]
    },
    {
      "cell_type": "code",
      "metadata": {
        "colab": {
          "base_uri": "https://localhost:8080/"
        },
        "id": "qKJHQTffuoBa",
        "outputId": "0435d703-e2cb-4235-a510-355b341a9f40"
      },
      "source": [
        "t_sp = t.split(' ')\r\n",
        "print(t_sp)"
      ],
      "execution_count": 45,
      "outputs": [
        {
          "output_type": "stream",
          "text": [
            "['python', 'is', 'easy']\n"
          ],
          "name": "stdout"
        }
      ]
    },
    {
      "cell_type": "code",
      "metadata": {
        "colab": {
          "base_uri": "https://localhost:8080/"
        },
        "id": "XcNDShUYun-S",
        "outputId": "f05e8aa3-b712-4678-fc84-acb2fd0c8cee"
      },
      "source": [
        "## วิธีรวมกลับ\r\n",
        "print(':'.join(t_sp))"
      ],
      "execution_count": 46,
      "outputs": [
        {
          "output_type": "stream",
          "text": [
            "python:is:easy\n"
          ],
          "name": "stdout"
        }
      ]
    },
    {
      "cell_type": "markdown",
      "metadata": {
        "id": "90i9xPptvXKu"
      },
      "source": [
        "### HW คำนวณเวลาเป็นวินาทีของเวลาต่อไปนี้โดยใช้คำสั่ง split() ช่วย print ออกมาให้สวยงาม\r\n",
        "12:30:15\r\n",
        "\r\n",
        "13:41:07\r\n",
        "\r\n",
        "12:53:15\r\n",
        "\r\n",
        "00:59:25\r\n",
        "\r\n",
        "11:11:11\r\n",
        "\r\n",
        "16:06:09\r\n",
        "\r\n",
        "21:12:30\r\n",
        "\r\n",
        "10:06:15\r\n",
        "\r\n",
        "ตัวอย่าง > 00.01.10 = 70 วินาที\r\n",
        "ตัวอย่าง > 01:00:01 = 3601 วินาที"
      ]
    },
    {
      "cell_type": "code",
      "metadata": {
        "colab": {
          "base_uri": "https://localhost:8080/"
        },
        "id": "nsLjPK2PxHdm",
        "outputId": "e9a7ab9e-07af-4171-ee5a-35dc77a40721"
      },
      "source": [
        "q1='12:30:15'\r\n",
        "#code\r\n",
        "#code\r\n",
        "#code\r\n",
        "print() "
      ],
      "execution_count": 49,
      "outputs": [
        {
          "output_type": "stream",
          "text": [
            "\n"
          ],
          "name": "stdout"
        }
      ]
    },
    {
      "cell_type": "code",
      "metadata": {
        "id": "La2WWwWjxHPz"
      },
      "source": [
        ""
      ],
      "execution_count": null,
      "outputs": []
    },
    {
      "cell_type": "code",
      "metadata": {
        "id": "Na1IylnHun7I"
      },
      "source": [
        ""
      ],
      "execution_count": null,
      "outputs": []
    },
    {
      "cell_type": "code",
      "metadata": {
        "id": "3Jyw54V9unxQ"
      },
      "source": [
        ""
      ],
      "execution_count": null,
      "outputs": []
    }
  ]
}