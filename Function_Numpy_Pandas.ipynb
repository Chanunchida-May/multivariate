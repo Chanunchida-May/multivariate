{
  "nbformat": 4,
  "nbformat_minor": 0,
  "metadata": {
    "colab": {
      "name": "Function_Numpy_Pandas.ipynb",
      "provenance": [],
      "authorship_tag": "ABX9TyOTgjZQB5LVVDIyeYr3LujN",
      "include_colab_link": true
    },
    "kernelspec": {
      "name": "python3",
      "display_name": "Python 3"
    }
  },
  "cells": [
    {
      "cell_type": "markdown",
      "metadata": {
        "id": "view-in-github",
        "colab_type": "text"
      },
      "source": [
        "<a href=\"https://colab.research.google.com/github/Chanunchida-May/multivariate/blob/main/Function_Numpy_Pandas.ipynb\" target=\"_parent\"><img src=\"https://colab.research.google.com/assets/colab-badge.svg\" alt=\"Open In Colab\"/></a>"
      ]
    },
    {
      "cell_type": "markdown",
      "metadata": {
        "id": "mGyIxmlcSoVt"
      },
      "source": [
        "###Function"
      ]
    },
    {
      "cell_type": "markdown",
      "metadata": {
        "id": "C3BcJPvxg9Ss"
      },
      "source": [
        "\r\n",
        "    ```python\r\n",
        "    \r\n",
        "    def function_name(_Input_):\r\n",
        "        do_something with_Input_to get_Output\r\n",
        "        return_output_\r\n",
        "\r\n",
        "        ```"
      ]
    },
    {
      "cell_type": "markdown",
      "metadata": {
        "id": "ncBjlP4BUNas"
      },
      "source": [
        "###function มีส่วนสำคัญทั้งหมด 4 ส่วน\r\n",
        "\r\n",
        "1.บอก phython ว่าเราจะเขียนฟังก์ชั่น ชื่ออะไร def function_name():ขาดไม่ได้\r\n",
        "\r\n",
        "2.กำหนดตัวเเปรที่จะเป็น Input input ขาดได้\r\n",
        "\r\n",
        "3.ส่วนประมวณผล do_something with Input to get Output (ขาดไม่ได้)\r\n",
        "\r\n",
        "4.ส่วน Output return Output(ขาดไม่ได้)\r\n",
        "\r\n"
      ]
    },
    {
      "cell_type": "markdown",
      "metadata": {
        "id": "NfqlrFhZWgtJ"
      },
      "source": [
        "สร้างฟังก์ชั่น"
      ]
    },
    {
      "cell_type": "code",
      "metadata": {
        "id": "q6PRFpnHVWuN"
      },
      "source": [
        "def print_name(name,surname,ID) :\r\n",
        "    st = f'ชื่อ {name} นามสกุล {surname} ID {ID}'\r\n",
        "    return st\r\n",
        "    print('outside function')"
      ],
      "execution_count": 13,
      "outputs": []
    },
    {
      "cell_type": "markdown",
      "metadata": {
        "id": "BAosZnEzWjwi"
      },
      "source": [
        "เรียกใช้ฟังก์ชั่น"
      ]
    },
    {
      "cell_type": "code",
      "metadata": {
        "colab": {
          "base_uri": "https://localhost:8080/"
        },
        "id": "mmbX3qYgTt5R",
        "outputId": "49a38316-e9f1-433f-b4cd-eb0b8d931690"
      },
      "source": [
        "output_string = print_name('ชนัญชิดา', 'เมธีกุลมานิต', '623020516-1')\r\n",
        "print(output_string)"
      ],
      "execution_count": 14,
      "outputs": [
        {
          "output_type": "stream",
          "text": [
            "ชื่อ ชนัญชิดา นามสกุล เมธีกุลมานิต ID 623020516-1\n"
          ],
          "name": "stdout"
        }
      ]
    },
    {
      "cell_type": "code",
      "metadata": {
        "colab": {
          "base_uri": "https://localhost:8080/",
          "height": 35
        },
        "id": "pUxx3rG5XU2K",
        "outputId": "1a902822-637b-4587-c481-23a0d113f2c7"
      },
      "source": [
        "print_name('ชนัญชิดา', 'เมธีกุลมานิต', '623020516-1')"
      ],
      "execution_count": 15,
      "outputs": [
        {
          "output_type": "execute_result",
          "data": {
            "application/vnd.google.colaboratory.intrinsic+json": {
              "type": "string"
            },
            "text/plain": [
              "'ชื่อ ชนัญชิดา นามสกุล เมธีกุลมานิต ID 623020516-1'"
            ]
          },
          "metadata": {
            "tags": []
          },
          "execution_count": 15
        }
      ]
    },
    {
      "cell_type": "markdown",
      "metadata": {
        "id": "fanPVSdMXY8u"
      },
      "source": [
        "ฟังก์ชันไม่จำเป็นต้องมี output "
      ]
    },
    {
      "cell_type": "code",
      "metadata": {
        "id": "jGoM_fPoWYj2"
      },
      "source": [
        "def print_name2(surname,ID,name) :\r\n",
        "    st = f'ชื่อ {name} นามสกุล {surname} รหัส {ID}'\r\n",
        "    print(st)"
      ],
      "execution_count": 21,
      "outputs": []
    },
    {
      "cell_type": "code",
      "metadata": {
        "colab": {
          "base_uri": "https://localhost:8080/"
        },
        "id": "FT62uopOXw5e",
        "outputId": "dfef6573-3634-468e-af54-4b126fbaaede"
      },
      "source": [
        "print_name2('ชนัญชิดา', 'เมธีกุลมานิต', '623020516-1')"
      ],
      "execution_count": 22,
      "outputs": [
        {
          "output_type": "stream",
          "text": [
            "ชื่อ 623020516-1 นามสกุล ชนัญชิดา รหัส เมธีกุลมานิต\n"
          ],
          "name": "stdout"
        }
      ]
    },
    {
      "cell_type": "code",
      "metadata": {
        "colab": {
          "base_uri": "https://localhost:8080/"
        },
        "id": "BELCVVJtYMjX",
        "outputId": "3e0ffb92-318d-4205-bc11-7375a9663d28"
      },
      "source": [
        "op2 = print_name2('ชนัญชิดา', 'เมธีกุลมานิต', '623020516-1')"
      ],
      "execution_count": 23,
      "outputs": [
        {
          "output_type": "stream",
          "text": [
            "ชื่อ 623020516-1 นามสกุล ชนัญชิดา รหัส เมธีกุลมานิต\n"
          ],
          "name": "stdout"
        }
      ]
    },
    {
      "cell_type": "code",
      "metadata": {
        "colab": {
          "base_uri": "https://localhost:8080/"
        },
        "id": "Ke9S-1aqYdwC",
        "outputId": "232330d3-79ed-4add-ab2e-d9cee462a251"
      },
      "source": [
        "print(op2)"
      ],
      "execution_count": 20,
      "outputs": [
        {
          "output_type": "stream",
          "text": [
            "None\n"
          ],
          "name": "stdout"
        }
      ]
    },
    {
      "cell_type": "markdown",
      "metadata": {
        "id": "_Vu_nu-5Y_rh"
      },
      "source": [
        "  ฟังก์ชั่นไม่ต้องมี input"
      ]
    },
    {
      "cell_type": "code",
      "metadata": {
        "id": "kYECGexhYhlS"
      },
      "source": [
        "def Pi():\r\n",
        "    return 3.14159265359"
      ],
      "execution_count": 24,
      "outputs": []
    },
    {
      "cell_type": "code",
      "metadata": {
        "colab": {
          "base_uri": "https://localhost:8080/"
        },
        "id": "lG117Vz1ZUl_",
        "outputId": "d4d672a1-3a42-48ce-c55c-785def26df8c"
      },
      "source": [
        "#คำนวณพื้นที่วงกลมที่มีขนาดเส้นผ่าศูนย์กลางเท่ากับ 3\r\n",
        "Pi()*(1.5**2) # ** เเปลว่ายกกำลัง"
      ],
      "execution_count": 25,
      "outputs": [
        {
          "output_type": "execute_result",
          "data": {
            "text/plain": [
              "7.0685834705775"
            ]
          },
          "metadata": {
            "tags": []
          },
          "execution_count": 25
        }
      ]
    },
    {
      "cell_type": "code",
      "metadata": {
        "id": "jfsq_A1uZpP1"
      },
      "source": [
        "def print_my_name():\r\n",
        "    print('ชนัญชิดา เมธีกุลมานิต ID 623020516-1')"
      ],
      "execution_count": 26,
      "outputs": []
    },
    {
      "cell_type": "code",
      "metadata": {
        "colab": {
          "base_uri": "https://localhost:8080/",
          "height": 229
        },
        "id": "b3O5nkbzh4F4",
        "outputId": "90f9bb71-ee6e-4064-eb4e-2c55310176ee"
      },
      "source": [
        "print_my_name()"
      ],
      "execution_count": 39,
      "outputs": [
        {
          "output_type": "error",
          "ename": "NameError",
          "evalue": "ignored",
          "traceback": [
            "\u001b[0;31m---------------------------------------------------------------------------\u001b[0m",
            "\u001b[0;31mNameError\u001b[0m                                 Traceback (most recent call last)",
            "\u001b[0;32m<ipython-input-39-6a81008de136>\u001b[0m in \u001b[0;36m<module>\u001b[0;34m()\u001b[0m\n\u001b[0;32m----> 1\u001b[0;31m \u001b[0mprint_my_name\u001b[0m\u001b[0;34m(\u001b[0m\u001b[0;34m)\u001b[0m\u001b[0;34m\u001b[0m\u001b[0;34m\u001b[0m\u001b[0m\n\u001b[0m",
            "\u001b[0;32m<ipython-input-26-141a2389cbb3>\u001b[0m in \u001b[0;36mprint_my_name\u001b[0;34m()\u001b[0m\n\u001b[1;32m      1\u001b[0m \u001b[0;32mdef\u001b[0m \u001b[0mprint_my_name\u001b[0m\u001b[0;34m(\u001b[0m\u001b[0;34m)\u001b[0m\u001b[0;34m:\u001b[0m\u001b[0;34m\u001b[0m\u001b[0;34m\u001b[0m\u001b[0m\n\u001b[0;32m----> 2\u001b[0;31m     \u001b[0mPrint\u001b[0m\u001b[0;34m(\u001b[0m\u001b[0;34m'ชนัญชิดา เมธีกุลมานิต ID 623020516-1'\u001b[0m\u001b[0;34m)\u001b[0m\u001b[0;34m\u001b[0m\u001b[0;34m\u001b[0m\u001b[0m\n\u001b[0m",
            "\u001b[0;31mNameError\u001b[0m: name 'Print' is not defined"
          ]
        }
      ]
    },
    {
      "cell_type": "markdown",
      "metadata": {
        "id": "AJRET4zvaZtH"
      },
      "source": [
        "input ของ function ใน python มีสองเเบบ input ที่จำเป็นต้องใส่กับ input ที่ไม่จำเป็นต้องใส่ (มีค่า default) เราเรียง input ที่จำเป็นต้องใส่ก่อน"
      ]
    },
    {
      "cell_type": "code",
      "metadata": {
        "id": "Chydsn-naD-E"
      },
      "source": [
        "def print_2lines_default(name, surname, ID, grade='A') :\r\n",
        "    st = f'ชื่อ {name} นามสกุล {surname} รหัส {ID}'\r\n",
        "    print(st)\r\n",
        "    st2=f'เกรดวิชา Multivariate >>> {grade}'\r\n",
        "    print(st2)"
      ],
      "execution_count": 29,
      "outputs": []
    },
    {
      "cell_type": "code",
      "metadata": {
        "colab": {
          "base_uri": "https://localhost:8080/"
        },
        "id": "94s3S0Lvbqka",
        "outputId": "af974e1f-aaf4-4ca1-eb5d-4dd1e2f3926e"
      },
      "source": [
        "print_2lines_default('ชนัญชิดา', 'เมธีกุลมานิต', '623020516-1')"
      ],
      "execution_count": 30,
      "outputs": [
        {
          "output_type": "stream",
          "text": [
            "ชื่อ ชนัญชิดา นามสกุล เมธีกุลมานิต รหัส 623020516-1\n",
            "เกรดวิชา Multivariate >>> A\n"
          ],
          "name": "stdout"
        }
      ]
    },
    {
      "cell_type": "code",
      "metadata": {
        "colab": {
          "base_uri": "https://localhost:8080/"
        },
        "id": "4p49LM2kcBg0",
        "outputId": "83e5df98-67f0-46d2-ca1d-ac011406acc7"
      },
      "source": [
        "print_2lines_default('ชนัญชิดา', 'เมธีกุลมานิต', '623020516-1', 'A')"
      ],
      "execution_count": 31,
      "outputs": [
        {
          "output_type": "stream",
          "text": [
            "ชื่อ ชนัญชิดา นามสกุล เมธีกุลมานิต รหัส 623020516-1\n",
            "เกรดวิชา Multivariate >>> A\n"
          ],
          "name": "stdout"
        }
      ]
    },
    {
      "cell_type": "markdown",
      "metadata": {
        "id": "7XEHcWlacJAM"
      },
      "source": [
        "เราสามารถเรียกฟังก์ชั่นโดยใช้ชื่อตัวเเปรของฟังก์ชั่นช่วยได้"
      ]
    },
    {
      "cell_type": "code",
      "metadata": {
        "colab": {
          "base_uri": "https://localhost:8080/"
        },
        "id": "5qtnM7f_cSKu",
        "outputId": "c888c97e-92f4-4ffe-f425-acbe178f70cb"
      },
      "source": [
        "print_name2(name='ชนัญชิดา', surname='เมธีกุลมานิต', ID='623220516-1')"
      ],
      "execution_count": 32,
      "outputs": [
        {
          "output_type": "stream",
          "text": [
            "ชื่อ ชนัญชิดา นามสกุล เมธีกุลมานิต รหัส 623220516-1\n"
          ],
          "name": "stdout"
        }
      ]
    },
    {
      "cell_type": "markdown",
      "metadata": {
        "id": "8kcLLO02c2J2"
      },
      "source": [
        "##  HW3 ให้เขียน function คำนวณจำนวนวินาทีจาก เวลาต่อไปนี้\r\n",
        "\r\n",
        "'14-15-31'\r\n",
        "\r\n",
        "'13.00.01'\r\n",
        "\r\n",
        "'05-49-44'\r\n",
        "\r\n",
        "'00-00-16'\r\n",
        "\r\n",
        "เเละ print ให้สวยงาม"
      ]
    },
    {
      "cell_type": "code",
      "metadata": {
        "id": "GsHnfNxscSIe"
      },
      "source": [
        ""
      ],
      "execution_count": null,
      "outputs": []
    },
    {
      "cell_type": "code",
      "metadata": {
        "id": "R0Q4Djy1cSGa"
      },
      "source": [
        ""
      ],
      "execution_count": null,
      "outputs": []
    },
    {
      "cell_type": "code",
      "metadata": {
        "id": "NuEtIujWcSD8"
      },
      "source": [
        ""
      ],
      "execution_count": null,
      "outputs": []
    },
    {
      "cell_type": "code",
      "metadata": {
        "id": "TKczP_qvcSBj"
      },
      "source": [
        ""
      ],
      "execution_count": null,
      "outputs": []
    },
    {
      "cell_type": "code",
      "metadata": {
        "id": "Bts69LpYcR-7"
      },
      "source": [
        ""
      ],
      "execution_count": null,
      "outputs": []
    },
    {
      "cell_type": "code",
      "metadata": {
        "id": "GLkYgXx0cR8F"
      },
      "source": [
        ""
      ],
      "execution_count": null,
      "outputs": []
    },
    {
      "cell_type": "code",
      "metadata": {
        "id": "U3KwDbYucHQj"
      },
      "source": [
        ""
      ],
      "execution_count": null,
      "outputs": []
    }
  ]
}